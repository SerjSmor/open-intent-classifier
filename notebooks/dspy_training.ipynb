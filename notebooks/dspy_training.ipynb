{
 "cells": [
  {
   "cell_type": "markdown",
   "id": "24b400eb-2039-4e22-812a-c784161f329d",
   "metadata": {},
   "source": [
    "# Content\n",
    "## Define Classifier\n",
    "## Define Datasets\n",
    "## Define DSPy.Examples\n",
    "## Define Optimizers\n",
    "## Define Evaluation\n",
    "## Run Evaluation\n",
    "## Save Prompts"
   ]
  },
  {
   "cell_type": "markdown",
   "id": "b94e80f3-3447-43ea-9543-ff73df3c4805",
   "metadata": {},
   "source": [
    "# Define classifier"
   ]
  },
  {
   "cell_type": "code",
   "execution_count": 1,
   "id": "39778e03-1631-4d90-a7cd-1c82f5b948ac",
   "metadata": {},
   "outputs": [],
   "source": [
    "import dspy \n",
    "import random\n",
    "import pandas as pd\n",
    "from datasets import load_dataset\n",
    "\n",
    "class Classification(dspy.Signature):\n",
    "    \"\"\"Classify the customer message into one of the intent labels.\n",
    "    The output should be only the predicted class as a single intent label.\"\"\"\n",
    "\n",
    "    customer_message = dspy.InputField(desc=\"Customer message during customer service interaction\")\n",
    "    intent_labels = dspy.InputField(desc=\"Labels that represent customer intent\")\n",
    "    answer = dspy.OutputField(desc=\"a label best matching customer's intent \")\n",
    "\n",
    "lm_mini = dspy.OpenAI(model='gpt-4o-mini')\n",
    "dspy.settings.configure(lm=lm_mini)\n",
    "cot_predictor = dspy.ChainOfThought(Classification)\n"
   ]
  },
  {
   "cell_type": "markdown",
   "id": "cf11469a-598f-4962-97c4-4ff2055d8086",
   "metadata": {},
   "source": [
    "# Parse Atis Dataset"
   ]
  },
  {
   "cell_type": "code",
   "execution_count": 2,
   "id": "16594105-5855-4c13-801d-bb3055580136",
   "metadata": {},
   "outputs": [],
   "source": [
    "\n",
    "dataset = load_dataset(\"tuetschek/atis\")\n",
    "dataset.set_format(type=\"pandas\")\n",
    "\n",
    "df_train: pd.DataFrame = dataset[\"train\"][:]\n",
    "df_test: pd.DataFrame = dataset[\"test\"][:]\n",
    "small_test = df_test.head(100)"
   ]
  },
  {
   "cell_type": "markdown",
   "id": "a1cba8a9-00dd-4ba3-9486-925b0bb2ea8d",
   "metadata": {},
   "source": [
    "## x column: text, y column: intent"
   ]
  },
  {
   "cell_type": "code",
   "execution_count": 3,
   "id": "e08e4e74-d202-48a4-8a14-0ab68729a462",
   "metadata": {},
   "outputs": [
    {
     "data": {
      "text/plain": [
       "id                                                        0\n",
       "intent                                               flight\n",
       "text      i want to fly from boston at 838 am and arrive...\n",
       "slots     O O O O O B-fromloc.city_name O B-depart_time....\n",
       "Name: 0, dtype: object"
      ]
     },
     "execution_count": 3,
     "metadata": {},
     "output_type": "execute_result"
    }
   ],
   "source": [
    "df_train.iloc[0]"
   ]
  },
  {
   "cell_type": "markdown",
   "id": "78305be5-30a9-4cf5-a2ac-9c66ecca03cc",
   "metadata": {},
   "source": [
    "## prepare labels"
   ]
  },
  {
   "cell_type": "code",
   "execution_count": 4,
   "id": "3632bcc1-c391-43f9-b927-63672ad7d056",
   "metadata": {},
   "outputs": [
    {
     "data": {
      "text/plain": [
       "'flight%flight_time%airfare%aircraft%ground_service%airport%airline%distance%abbreviation%ground_fare%quantity%city%flight_no%capacity%flight+airfare%meal%restriction%airline+flight_no%ground_service+ground_fare%airfare+flight_time%cheapest%aircraft+flight+flight_no'"
      ]
     },
     "execution_count": 4,
     "metadata": {},
     "output_type": "execute_result"
    }
   ],
   "source": [
    "labels = df_train[\"intent\"].unique().tolist()\n",
    "labels_str = \"%\".join(labels)\n",
    "labels_str"
   ]
  },
  {
   "cell_type": "code",
   "execution_count": 5,
   "id": "681e4647-fd7e-4b80-a570-77f44f966485",
   "metadata": {},
   "outputs": [
    {
     "name": "stderr",
     "output_type": "stream",
     "text": [
      "WARNING:root:\t*** In DSPy 2.5, all LM clients except `dspy.LM` are deprecated, underperform, and are about to be deleted. ***\n",
      " \t\tYou are using the client GPT3, which will be removed in DSPy 2.6.\n",
      " \t\tChanging the client is straightforward and will let you use new features (Adapters) that improve the consistency of LM outputs, especially when using chat LMs. \n",
      "\n",
      " \t\tLearn more about the changes and how to migrate at\n",
      " \t\thttps://github.com/stanfordnlp/dspy/blob/main/examples/migration.ipynb\n"
     ]
    },
    {
     "name": "stdout",
     "output_type": "stream",
     "text": [
      "customer message: i want to fly from boston at 838 am and arrive in denver at 1110 in the morning,real class: flight\n"
     ]
    },
    {
     "data": {
      "text/plain": [
       "Prediction(\n",
       "    rationale='produce the answer. We first identify that the customer is expressing a desire to fly from Boston to Denver, specifying both the departure time (8:38 AM) and the arrival time (11:10 AM). This indicates that the customer is looking for flight information, particularly related to the flight time and possibly the airfare. The intent is primarily focused on booking or inquiring about a flight, which aligns with the \"flight_time\" and \"airfare\" labels. However, since the customer is providing specific times, the most relevant label is \"flight_time\".',\n",
       "    answer='flight_time'\n",
       ")"
      ]
     },
     "execution_count": 5,
     "metadata": {},
     "output_type": "execute_result"
    }
   ],
   "source": [
    "## run prediction\n",
    "first_row = df_train.iloc[0]\n",
    "print(f\"customer message: {first_row['text']},real class: {first_row['intent']}\")\n",
    "cot_predictor(customer_message=first_row[\"text\"], intent_labels=labels_str)\n"
   ]
  },
  {
   "cell_type": "markdown",
   "id": "6faec3e6-114e-4397-996f-e3c0a0e805c4",
   "metadata": {},
   "source": [
    "# Define Examples"
   ]
  },
  {
   "cell_type": "code",
   "execution_count": 6,
   "id": "1e01c3c9-288d-4477-a20b-47694f583c8a",
   "metadata": {},
   "outputs": [
    {
     "name": "stdout",
     "output_type": "stream",
     "text": [
      "90 45\n"
     ]
    }
   ],
   "source": [
    "# nowhere else there was an example of this thing\n",
    "\n",
    "# we want k examples per class \n",
    "def get_dspy_examples(df, k) -> dspy.example:\n",
    "    dspy_examples = []\n",
    "    for label in labels:\n",
    "        try:\n",
    "            label_df = df[df[\"intent\"] == label].sample(n=k)\n",
    "            for index, row in label_df.iterrows():\n",
    "                dspy_examples.append(\n",
    "                    dspy.Example(customer_message=row[\"text\"], answer=row[\"intent\"], \n",
    "                                 intent_labels=labels_str).with_inputs(\"customer_message\", \"intent_labels\")\n",
    "                )\n",
    "        except:\n",
    "            # there are classes that don't have any representatives\n",
    "            continue\n",
    "\n",
    "    return dspy_examples\n",
    "\n",
    "\n",
    "train_examples = get_dspy_examples(df_train, k=2)\n",
    "all_test_examples = get_dspy_examples(df_test, k=10)\n",
    "print(len(all_test_examples), len(all_test_examples) // 2)\n",
    "dev_examples = random.sample(all_test_examples, len(all_test_examples) // 2)\n",
    "test_examples = [example for example in all_test_examples if example not in dev_examples]"
   ]
  },
  {
   "cell_type": "markdown",
   "id": "b061f1af-b8fc-4742-951e-cfeaf1b696a9",
   "metadata": {},
   "source": [
    "# Define LabeledFewShot Optimizer\n",
    "LabeledFewShot is the simplest optimizer. Its compile method injects samples intro the prompt.\n",
    "There is not optimization going on.\n"
   ]
  },
  {
   "cell_type": "code",
   "execution_count": 7,
   "id": "24b21df7-57c4-454e-bdf6-d63e8f855e70",
   "metadata": {},
   "outputs": [],
   "source": [
    "from dspy.teleprompt import LabeledFewShot\n",
    "\n",
    "few_shot_demos = random.sample(train_examples, k=10)\n",
    "labeled_fewshot_optimizer = LabeledFewShot(k=len(few_shot_demos))\n",
    "few_shot_model = labeled_fewshot_optimizer.compile(student=cot_predictor, trainset=few_shot_demos)\n"
   ]
  },
  {
   "cell_type": "markdown",
   "id": "369a899d-4994-4371-9025-ea7f36f86bba",
   "metadata": {},
   "source": [
    "### What is happenning under the hood?\n",
    "### LabeledFewShot randomly selects labels"
   ]
  },
  {
   "cell_type": "markdown",
   "id": "bf6ac178-fc1b-4e34-b944-ddc781428257",
   "metadata": {},
   "source": [
    "### DSPy SOURCE CODE: https://github.com/stanfordnlp/dspy/blob/793530c65a0e1721997dac0d2636f0f70ad649b6/dspy/teleprompt/vanilla.py#L6\n",
    "\n",
    "class LabeledFewShot(Teleprompter):\n",
    "    def __init__(self, k=16):\n",
    "        self.k = k\n",
    "\n",
    "    def compile(self, student, *, trainset, sample=True):\n",
    "        self.student = student.reset_copy()\n",
    "        self.trainset = trainset\n",
    "\n",
    "        if len(self.trainset) == 0:\n",
    "            return self.student\n",
    "\n",
    "        rng = random.Random(0)\n",
    "\n",
    "        for predictor in self.student.predictors():\n",
    "            if sample:\n",
    "                predictor.demos = rng.sample(self.trainset, min(self.k, len(self.trainset)))\n",
    "            else:\n",
    "                predictor.demos = self.trainset[: min(self.k, len(self.trainset))]\n",
    "\n",
    "        return self.student"
   ]
  },
  {
   "cell_type": "markdown",
   "id": "d2598608-3292-49a8-98f4-2e5f46d1366f",
   "metadata": {},
   "source": [
    "### My own summary of the implementation\n",
    "DSPy samples randomly a portion of the samples as examples for in-context learning. \n",
    "There's no actual optimization process."
   ]
  },
  {
   "cell_type": "markdown",
   "id": "6bdad12e-aff6-4b2e-bd93-f6c7f594b807",
   "metadata": {},
   "source": [
    "### How does the prompt looks like?"
   ]
  },
  {
   "cell_type": "code",
   "execution_count": 20,
   "id": "12c40bb7-707d-4b34-b5a1-3643d85425ff",
   "metadata": {},
   "outputs": [
    {
     "name": "stdout",
     "output_type": "stream",
     "text": [
      "\n",
      "\n",
      "\n",
      "Classify the customer message into one of the intent labels.\n",
      "The output should be only the predicted class as a single intent label.\n",
      "\n",
      "---\n",
      "\n",
      "Follow the following format.\n",
      "\n",
      "Customer Message: Customer message during customer service interaction\n",
      "\n",
      "Intent Labels: Labels that represent customer intent\n",
      "\n",
      "Reasoning: Let's think step by step in order to ${produce the answer}. We ...\n",
      "\n",
      "Answer: a label best matching customer's intent\n",
      "\n",
      "---\n",
      "\n",
      "Customer Message: what are the air restrictions on flights from pittsburgh to atlanta for the airfare of 416 dollars\n",
      "Intent Labels: flight%flight_time%airfare%aircraft%ground_service%airport%airline%distance%abbreviation%ground_fare%quantity%city%flight_no%capacity%flight+airfare%meal%restriction%airline+flight_no%ground_service+ground_fare%airfare+flight_time%cheapest%aircraft+flight+flight_no\n",
      "Answer: restriction\n",
      "\n",
      "---\n",
      "\n",
      "Customer Message: what is the flight number of the earliest flight between boston and washington dc\n",
      "Intent Labels: flight%flight_time%airfare%aircraft%ground_service%airport%airline%distance%abbreviation%ground_fare%quantity%city%flight_no%capacity%flight+airfare%meal%restriction%airline+flight_no%ground_service+ground_fare%airfare+flight_time%cheapest%aircraft+flight+flight_no\n",
      "Answer: flight_no\n",
      "\n",
      "---\n",
      "\n",
      "Customer Message: what times does continental depart from boston to san francisco\n",
      "Intent Labels: flight%flight_time%airfare%aircraft%ground_service%airport%airline%distance%abbreviation%ground_fare%quantity%city%flight_no%capacity%flight+airfare%meal%restriction%airline+flight_no%ground_service+ground_fare%airfare+flight_time%cheapest%aircraft+flight+flight_no\n",
      "Answer: flight_time\n",
      "\n",
      "---\n",
      "\n",
      "Customer Message: what ground transportation is available in san francisco\n",
      "Intent Labels: flight%flight_time%airfare%aircraft%ground_service%airport%airline%distance%abbreviation%ground_fare%quantity%city%flight_no%capacity%flight+airfare%meal%restriction%airline+flight_no%ground_service+ground_fare%airfare+flight_time%cheapest%aircraft+flight+flight_no\n",
      "Answer: ground_service\n",
      "\n",
      "---\n",
      "\n",
      "Customer Message: do i get a meal on the atlanta to bwi flight eastern 210\n",
      "Intent Labels: flight%flight_time%airfare%aircraft%ground_service%airport%airline%distance%abbreviation%ground_fare%quantity%city%flight_no%capacity%flight+airfare%meal%restriction%airline+flight_no%ground_service+ground_fare%airfare+flight_time%cheapest%aircraft+flight+flight_no\n",
      "Answer: meal\n",
      "\n",
      "---\n",
      "\n",
      "Customer Message: round trip fares from denver to philadelphia less than 1000 dollars\n",
      "Intent Labels: flight%flight_time%airfare%aircraft%ground_service%airport%airline%distance%abbreviation%ground_fare%quantity%city%flight_no%capacity%flight+airfare%meal%restriction%airline+flight_no%ground_service+ground_fare%airfare+flight_time%cheapest%aircraft+flight+flight_no\n",
      "Answer: airfare\n",
      "\n",
      "---\n",
      "\n",
      "Customer Message: which airlines fly between boston and pittsburgh\n",
      "Intent Labels: flight%flight_time%airfare%aircraft%ground_service%airport%airline%distance%abbreviation%ground_fare%quantity%city%flight_no%capacity%flight+airfare%meal%restriction%airline+flight_no%ground_service+ground_fare%airfare+flight_time%cheapest%aircraft+flight+flight_no\n",
      "Answer: airline\n",
      "\n",
      "---\n",
      "\n",
      "Customer Message: houston airports\n",
      "Intent Labels: flight%flight_time%airfare%aircraft%ground_service%airport%airline%distance%abbreviation%ground_fare%quantity%city%flight_no%capacity%flight+airfare%meal%restriction%airline+flight_no%ground_service+ground_fare%airfare+flight_time%cheapest%aircraft+flight+flight_no\n",
      "Answer: airport\n",
      "\n",
      "---\n",
      "\n",
      "Customer Message: what is the distance between pittsburgh airport and downtown pittsburgh\n",
      "Intent Labels: flight%flight_time%airfare%aircraft%ground_service%airport%airline%distance%abbreviation%ground_fare%quantity%city%flight_no%capacity%flight+airfare%meal%restriction%airline+flight_no%ground_service+ground_fare%airfare+flight_time%cheapest%aircraft+flight+flight_no\n",
      "Answer: distance\n",
      "\n",
      "---\n",
      "\n",
      "Customer Message: i would like the flight number and the time for the cheapest fare that is the least expensive first class fare from san francisco to pittsburgh leaving after 8 pm monday night\n",
      "Intent Labels: flight%flight_time%airfare%aircraft%ground_service%airport%airline%distance%abbreviation%ground_fare%quantity%city%flight_no%capacity%flight+airfare%meal%restriction%airline+flight_no%ground_service+ground_fare%airfare+flight_time%cheapest%aircraft+flight+flight_no\n",
      "Answer: flight_no\n",
      "\n",
      "---\n",
      "\n",
      "Customer Message: show flights from minneapolis to kansas city\n",
      "\n",
      "Intent Labels: flight%flight_time%airfare%aircraft%ground_service%airport%airline%distance%abbreviation%ground_fare%quantity%city%flight_no%capacity%flight+airfare%meal%restriction%airline+flight_no%ground_service+ground_fare%airfare+flight_time%cheapest%aircraft+flight+flight_no\n",
      "\n",
      "Reasoning: Let's think step by step in order to\u001b[32m produce the answer. We need to identify the main intent of the customer message. The customer is asking to see flights from one city to another, which indicates they are looking for information related to flights. The most appropriate label that matches this intent is \"flight.\"\n",
      "\n",
      "Answer: flight\u001b[0m\n",
      "\n",
      "\n",
      "\n"
     ]
    },
    {
     "data": {
      "text/plain": [
       "'\\n\\n\\nClassify the customer message into one of the intent labels.\\nThe output should be only the predicted class as a single intent label.\\n\\n---\\n\\nFollow the following format.\\n\\nCustomer Message: Customer message during customer service interaction\\n\\nIntent Labels: Labels that represent customer intent\\n\\nReasoning: Let\\'s think step by step in order to ${produce the answer}. We ...\\n\\nAnswer: a label best matching customer\\'s intent\\n\\n---\\n\\nCustomer Message: what are the air restrictions on flights from pittsburgh to atlanta for the airfare of 416 dollars\\nIntent Labels: flight%flight_time%airfare%aircraft%ground_service%airport%airline%distance%abbreviation%ground_fare%quantity%city%flight_no%capacity%flight+airfare%meal%restriction%airline+flight_no%ground_service+ground_fare%airfare+flight_time%cheapest%aircraft+flight+flight_no\\nAnswer: restriction\\n\\n---\\n\\nCustomer Message: what is the flight number of the earliest flight between boston and washington dc\\nIntent Labels: flight%flight_time%airfare%aircraft%ground_service%airport%airline%distance%abbreviation%ground_fare%quantity%city%flight_no%capacity%flight+airfare%meal%restriction%airline+flight_no%ground_service+ground_fare%airfare+flight_time%cheapest%aircraft+flight+flight_no\\nAnswer: flight_no\\n\\n---\\n\\nCustomer Message: what times does continental depart from boston to san francisco\\nIntent Labels: flight%flight_time%airfare%aircraft%ground_service%airport%airline%distance%abbreviation%ground_fare%quantity%city%flight_no%capacity%flight+airfare%meal%restriction%airline+flight_no%ground_service+ground_fare%airfare+flight_time%cheapest%aircraft+flight+flight_no\\nAnswer: flight_time\\n\\n---\\n\\nCustomer Message: what ground transportation is available in san francisco\\nIntent Labels: flight%flight_time%airfare%aircraft%ground_service%airport%airline%distance%abbreviation%ground_fare%quantity%city%flight_no%capacity%flight+airfare%meal%restriction%airline+flight_no%ground_service+ground_fare%airfare+flight_time%cheapest%aircraft+flight+flight_no\\nAnswer: ground_service\\n\\n---\\n\\nCustomer Message: do i get a meal on the atlanta to bwi flight eastern 210\\nIntent Labels: flight%flight_time%airfare%aircraft%ground_service%airport%airline%distance%abbreviation%ground_fare%quantity%city%flight_no%capacity%flight+airfare%meal%restriction%airline+flight_no%ground_service+ground_fare%airfare+flight_time%cheapest%aircraft+flight+flight_no\\nAnswer: meal\\n\\n---\\n\\nCustomer Message: round trip fares from denver to philadelphia less than 1000 dollars\\nIntent Labels: flight%flight_time%airfare%aircraft%ground_service%airport%airline%distance%abbreviation%ground_fare%quantity%city%flight_no%capacity%flight+airfare%meal%restriction%airline+flight_no%ground_service+ground_fare%airfare+flight_time%cheapest%aircraft+flight+flight_no\\nAnswer: airfare\\n\\n---\\n\\nCustomer Message: which airlines fly between boston and pittsburgh\\nIntent Labels: flight%flight_time%airfare%aircraft%ground_service%airport%airline%distance%abbreviation%ground_fare%quantity%city%flight_no%capacity%flight+airfare%meal%restriction%airline+flight_no%ground_service+ground_fare%airfare+flight_time%cheapest%aircraft+flight+flight_no\\nAnswer: airline\\n\\n---\\n\\nCustomer Message: houston airports\\nIntent Labels: flight%flight_time%airfare%aircraft%ground_service%airport%airline%distance%abbreviation%ground_fare%quantity%city%flight_no%capacity%flight+airfare%meal%restriction%airline+flight_no%ground_service+ground_fare%airfare+flight_time%cheapest%aircraft+flight+flight_no\\nAnswer: airport\\n\\n---\\n\\nCustomer Message: what is the distance between pittsburgh airport and downtown pittsburgh\\nIntent Labels: flight%flight_time%airfare%aircraft%ground_service%airport%airline%distance%abbreviation%ground_fare%quantity%city%flight_no%capacity%flight+airfare%meal%restriction%airline+flight_no%ground_service+ground_fare%airfare+flight_time%cheapest%aircraft+flight+flight_no\\nAnswer: distance\\n\\n---\\n\\nCustomer Message: i would like the flight number and the time for the cheapest fare that is the least expensive first class fare from san francisco to pittsburgh leaving after 8 pm monday night\\nIntent Labels: flight%flight_time%airfare%aircraft%ground_service%airport%airline%distance%abbreviation%ground_fare%quantity%city%flight_no%capacity%flight+airfare%meal%restriction%airline+flight_no%ground_service+ground_fare%airfare+flight_time%cheapest%aircraft+flight+flight_no\\nAnswer: flight_no\\n\\n---\\n\\nCustomer Message: show flights from minneapolis to kansas city\\n\\nIntent Labels: flight%flight_time%airfare%aircraft%ground_service%airport%airline%distance%abbreviation%ground_fare%quantity%city%flight_no%capacity%flight+airfare%meal%restriction%airline+flight_no%ground_service+ground_fare%airfare+flight_time%cheapest%aircraft+flight+flight_no\\n\\nReasoning: Let\\'s think step by step in order to\\x1b[32m produce the answer. We need to identify the main intent of the customer message. The customer is asking to see flights from one city to another, which indicates they are looking for information related to flights. The most appropriate label that matches this intent is \"flight.\"\\n\\nAnswer: flight\\x1b[0m\\n\\n\\n'"
      ]
     },
     "execution_count": 20,
     "metadata": {},
     "output_type": "execute_result"
    }
   ],
   "source": [
    "example = test_examples[0]\n",
    "# without inputs(), we won't inject the inputs of the example\n",
    "pred = few_shot_model(**example.inputs())\n",
    "# Produce a prediction from our `cot` module, using the `example` above as input.\n",
    "lm_mini.inspect_history(n=1)"
   ]
  },
  {
   "cell_type": "markdown",
   "id": "4be6e2df-2e27-43c3-b40b-f6dd70a35ef3",
   "metadata": {},
   "source": [
    "## Define BootstrapFewShot Optimizer\n",
    "This family of optimizers is focused on optimizing the few shot examples. Let's take an example of a Sample pipeline and see how we can use this optimizer to optimize it. From: https://dspy.ai/deep-dive/optimizers/bootstrap-fewshot/"
   ]
  },
  {
   "cell_type": "code",
   "execution_count": 9,
   "id": "9e86aad2-7f4e-463c-9ee0-5db62ffec24b",
   "metadata": {},
   "outputs": [],
   "source": [
    "from dspy.evaluate import answer_exact_match as metric\n",
    "from dspy.teleprompt import BootstrapFewShot\n",
    "\n",
    "optimizer = BootstrapFewShot(\n",
    "    metric=metric,\n",
    "    max_bootstrapped_demos=10,\n",
    "    max_labeled_demos=10,\n",
    "    max_rounds=10,\n",
    ")"
   ]
  },
  {
   "cell_type": "markdown",
   "id": "d7281605-91de-4bd6-8244-df8c8dc6441c",
   "metadata": {},
   "source": [
    "### Optimize"
   ]
  },
  {
   "cell_type": "code",
   "execution_count": 10,
   "id": "45e59037-ced5-44b7-8d31-8337fe9d45ea",
   "metadata": {},
   "outputs": [
    {
     "name": "stderr",
     "output_type": "stream",
     "text": [
      " 28%|████████████████████████████████████▍                                                                                              | 10/36 [00:14<00:38,  1.47s/it]"
     ]
    },
    {
     "name": "stdout",
     "output_type": "stream",
     "text": [
      "Bootstrapped 10 full traces after 10 examples for up to 10 rounds, amounting to 10 attempts.\n"
     ]
    },
    {
     "name": "stderr",
     "output_type": "stream",
     "text": [
      "\n"
     ]
    }
   ],
   "source": [
    "# documentation is wrong - there is not valset: https://dspy.ai/deep-dive/optimizers/bootstrap-fewshot/\n",
    "cot_few_shot_optimized = optimizer.compile(cot_predictor, trainset=train_examples)\n"
   ]
  },
  {
   "cell_type": "markdown",
   "id": "71cb5854-1b23-44f0-b28d-7a77e0458f67",
   "metadata": {},
   "source": [
    "## Peek under the hood of DSPy source code for BootStrapFewShot training"
   ]
  },
  {
   "cell_type": "markdown",
   "id": "b7f51b93-76ae-47bf-b644-53f1719af833",
   "metadata": {},
   "source": [
    "### DSPy source code for training\n",
    "class BootstrapFewShot()\n",
    "    def _train(self):\n",
    "        rng = random.Random(0)\n",
    "        raw_demos = self.validation\n",
    "\n",
    "        for name, predictor in self.student.named_predictors():\n",
    "            augmented_demos = self.name2traces[name][: self.max_bootstrapped_demos]\n",
    "\n",
    "            sample_size = min(self.max_labeled_demos - len(augmented_demos), len(raw_demos))\n",
    "            sample_size = max(0, sample_size)\n",
    "\n",
    "            raw_demos = rng.sample(raw_demos, sample_size)\n",
    "\n",
    "            if dspy.settings.release >= 20230928:\n",
    "                predictor.demos = raw_demos + augmented_demos\n",
    "            else:\n",
    "                predictor.demos = augmented_demos + raw_demos\n",
    "\n",
    "        return self.student"
   ]
  },
  {
   "cell_type": "markdown",
   "id": "ceade59e-3c28-4938-9119-1599aee4ec2c",
   "metadata": {},
   "source": [
    "I consulted with ChatGPT about this method. Source code: https://github.com/stanfordnlp/dspy/blob/main/dspy/teleprompt/bootstrap.py\n",
    "\n",
    "_train() Purpose\n",
    "Once _bootstrap() has collected and validated a set of bootstrapped demos, _train() takes over to:\n",
    "\n",
    "Compile Final Demos for Predictors: _train() assembles the demos (both bootstrapped and labeled) for each predictor within the student model. For each predictor, it selects a mix of bootstrapped demos (from _bootstrap()) and labeled examples (raw demos from the validation set) to create a final demo set.\n",
    "Random Sampling: The method performs a random sample from the raw labeled demos, ensuring the demos meet the configuration limits, such as max_labeled_demos.\n",
    "Set Demos for Each Predictor: Finally, _train() updates each predictor in the student model with this finalized set of demos, effectively preparing it for use.\n",
    "In essence, _bootstrap() is responsible for creating and validating bootstrapped demos, while _train() assembles a balanced set of these demos and labeled examples to finalize the student model’s training."
   ]
  },
  {
   "cell_type": "markdown",
   "id": "81a6d61a-b30f-41fd-96a6-4abf5108eeab",
   "metadata": {},
   "source": [
    "### My Own Summary\n",
    "BootstrapFewShot has two main properties:\n",
    "1. Enable you to generate additional examples\n",
    "2. DSPy tests which predictions pass the validation and keep only those"
   ]
  },
  {
   "cell_type": "markdown",
   "id": "0aa483be-ed96-4fbe-8ac0-32af8a04534b",
   "metadata": {},
   "source": [
    "## Define BootstrapFewShotWithRandomSearch"
   ]
  },
  {
   "cell_type": "code",
   "execution_count": 11,
   "id": "86165cf0-fd28-4f74-9803-ebec811c4d6d",
   "metadata": {},
   "outputs": [
    {
     "name": "stdout",
     "output_type": "stream",
     "text": [
      "Going to sample between 1 and 10 traces per predictor.\n",
      "Will attempt to bootstrap 5 candidate sets.\n"
     ]
    }
   ],
   "source": [
    "from dspy.teleprompt import BootstrapFewShotWithRandomSearch\n",
    "\n",
    "optimizer = BootstrapFewShotWithRandomSearch(\n",
    "    metric=metric, \n",
    "    max_bootstrapped_demos=10, \n",
    "    max_labeled_demos=10,\n",
    "    num_threads=10,\n",
    "    num_candidate_programs=5\n",
    ")"
   ]
  },
  {
   "cell_type": "code",
   "execution_count": 12,
   "id": "852ff802-23c1-49ed-90f4-af0dd9210eb5",
   "metadata": {},
   "outputs": [
    {
     "name": "stderr",
     "output_type": "stream",
     "text": [
      "Average Metric: 29 / 36  (80.6): 100%|██████████████████████████████████████████████████████████████████████████████████████████████████| 36/36 [00:05<00:00,  6.66it/s]\n",
      "2024/11/18 09:16:35 INFO dspy.evaluate.evaluate: Average Metric: 29 / 36 (80.6%)\n"
     ]
    },
    {
     "name": "stdout",
     "output_type": "stream",
     "text": [
      "New best score: 80.56 for seed -3\n",
      "Scores so far: [80.56]\n",
      "Best score so far: 80.56\n"
     ]
    },
    {
     "name": "stderr",
     "output_type": "stream",
     "text": [
      "Average Metric: 31 / 36  (86.1): 100%|██████████████████████████████████████████████████████████████████████████████████████████████████| 36/36 [00:04<00:00,  8.78it/s]\n",
      "2024/11/18 09:16:39 INFO dspy.evaluate.evaluate: Average Metric: 31 / 36 (86.1%)\n"
     ]
    },
    {
     "name": "stdout",
     "output_type": "stream",
     "text": [
      "New best score: 86.11 for seed -2\n",
      "Scores so far: [80.56, 86.11]\n",
      "Best score so far: 86.11\n"
     ]
    },
    {
     "name": "stderr",
     "output_type": "stream",
     "text": [
      " 28%|███████████████████████████████████▊                                                                                             | 10/36 [00:00<00:00, 1520.39it/s]\n"
     ]
    },
    {
     "name": "stdout",
     "output_type": "stream",
     "text": [
      "Bootstrapped 10 full traces after 10 examples for up to 1 rounds, amounting to 10 attempts.\n"
     ]
    },
    {
     "name": "stderr",
     "output_type": "stream",
     "text": [
      "Average Metric: 30 / 36  (83.3): 100%|██████████████████████████████████████████████████████████████████████████████████████████████████| 36/36 [00:07<00:00,  5.06it/s]\n",
      "2024/11/18 09:16:47 INFO dspy.evaluate.evaluate: Average Metric: 30 / 36 (83.3%)\n"
     ]
    },
    {
     "name": "stdout",
     "output_type": "stream",
     "text": [
      "Scores so far: [80.56, 86.11, 83.33]\n",
      "Best score so far: 86.11\n"
     ]
    },
    {
     "name": "stderr",
     "output_type": "stream",
     "text": [
      " 28%|████████████████████████████████████▍                                                                                              | 10/36 [00:25<01:05,  2.53s/it]\n"
     ]
    },
    {
     "name": "stdout",
     "output_type": "stream",
     "text": [
      "Bootstrapped 7 full traces after 10 examples for up to 1 rounds, amounting to 10 attempts.\n"
     ]
    },
    {
     "name": "stderr",
     "output_type": "stream",
     "text": [
      "Average Metric: 31 / 36  (86.1): 100%|██████████████████████████████████████████████████████████████████████████████████████████████████| 36/36 [00:06<00:00,  5.38it/s]\n",
      "2024/11/18 09:17:19 INFO dspy.evaluate.evaluate: Average Metric: 31 / 36 (86.1%)\n"
     ]
    },
    {
     "name": "stdout",
     "output_type": "stream",
     "text": [
      "Scores so far: [80.56, 86.11, 83.33, 86.11]\n",
      "Best score so far: 86.11\n"
     ]
    },
    {
     "name": "stderr",
     "output_type": "stream",
     "text": [
      " 11%|██████████████▋                                                                                                                     | 4/36 [00:06<00:55,  1.72s/it]\n"
     ]
    },
    {
     "name": "stdout",
     "output_type": "stream",
     "text": [
      "Bootstrapped 3 full traces after 4 examples for up to 1 rounds, amounting to 4 attempts.\n"
     ]
    },
    {
     "name": "stderr",
     "output_type": "stream",
     "text": [
      "Average Metric: 31 / 36  (86.1): 100%|██████████████████████████████████████████████████████████████████████████████████████████████████| 36/36 [00:07<00:00,  4.59it/s]\n",
      "2024/11/18 09:17:33 INFO dspy.evaluate.evaluate: Average Metric: 31 / 36 (86.1%)\n"
     ]
    },
    {
     "name": "stdout",
     "output_type": "stream",
     "text": [
      "Scores so far: [80.56, 86.11, 83.33, 86.11, 86.11]\n",
      "Best score so far: 86.11\n"
     ]
    },
    {
     "name": "stderr",
     "output_type": "stream",
     "text": [
      "  3%|███▋                                                                                                                                | 1/36 [00:01<00:40,  1.17s/it]\n"
     ]
    },
    {
     "name": "stdout",
     "output_type": "stream",
     "text": [
      "Bootstrapped 1 full traces after 1 examples for up to 1 rounds, amounting to 1 attempts.\n"
     ]
    },
    {
     "name": "stderr",
     "output_type": "stream",
     "text": [
      "Average Metric: 32 / 36  (88.9): 100%|██████████████████████████████████████████████████████████████████████████████████████████████████| 36/36 [00:07<00:00,  4.80it/s]\n",
      "2024/11/18 09:17:42 INFO dspy.evaluate.evaluate: Average Metric: 32 / 36 (88.9%)\n"
     ]
    },
    {
     "name": "stdout",
     "output_type": "stream",
     "text": [
      "New best score: 88.89 for seed 2\n",
      "Scores so far: [80.56, 86.11, 83.33, 86.11, 86.11, 88.89]\n",
      "Best score so far: 88.89\n"
     ]
    },
    {
     "name": "stderr",
     "output_type": "stream",
     "text": [
      " 14%|██████████████████▎                                                                                                                 | 5/36 [00:08<00:53,  1.72s/it]\n"
     ]
    },
    {
     "name": "stdout",
     "output_type": "stream",
     "text": [
      "Bootstrapped 4 full traces after 5 examples for up to 1 rounds, amounting to 5 attempts.\n"
     ]
    },
    {
     "name": "stderr",
     "output_type": "stream",
     "text": [
      "Average Metric: 29 / 36  (80.6): 100%|██████████████████████████████████████████████████████████████████████████████████████████████████| 36/36 [00:07<00:00,  5.10it/s]\n",
      "2024/11/18 09:17:58 INFO dspy.evaluate.evaluate: Average Metric: 29 / 36 (80.6%)\n"
     ]
    },
    {
     "name": "stdout",
     "output_type": "stream",
     "text": [
      "Scores so far: [80.56, 86.11, 83.33, 86.11, 86.11, 88.89, 80.56]\n",
      "Best score so far: 88.89\n"
     ]
    },
    {
     "name": "stderr",
     "output_type": "stream",
     "text": [
      " 19%|█████████████████████████▋                                                                                                          | 7/36 [00:11<00:46,  1.60s/it]\n"
     ]
    },
    {
     "name": "stdout",
     "output_type": "stream",
     "text": [
      "Bootstrapped 4 full traces after 7 examples for up to 1 rounds, amounting to 7 attempts.\n"
     ]
    },
    {
     "name": "stderr",
     "output_type": "stream",
     "text": [
      "Average Metric: 31 / 36  (86.1): 100%|██████████████████████████████████████████████████████████████████████████████████████████████████| 36/36 [00:06<00:00,  5.33it/s]\n",
      "2024/11/18 09:18:16 INFO dspy.evaluate.evaluate: Average Metric: 31 / 36 (86.1%)\n"
     ]
    },
    {
     "name": "stdout",
     "output_type": "stream",
     "text": [
      "Scores so far: [80.56, 86.11, 83.33, 86.11, 86.11, 88.89, 80.56, 86.11]\n",
      "Best score so far: 88.89\n",
      "8 candidate programs found.\n"
     ]
    }
   ],
   "source": [
    "cot_few_shot_rs_optimized = optimizer.compile(cot_predictor, trainset=train_examples)"
   ]
  },
  {
   "cell_type": "markdown",
   "id": "6c393252-33c3-42d4-82cb-02072a1e757d",
   "metadata": {},
   "source": [
    "## Peek under the hood of the source code Implementation"
   ]
  },
  {
   "cell_type": "markdown",
   "id": "f463a5df-875c-47b2-b8b1-e857e914714c",
   "metadata": {},
   "source": [
    "### Source code\n",
    "From: https://github.com/stanfordnlp/dspy/blob/main/dspy/teleprompt/random_search.py\n",
    "\n",
    "       assert seed >= 0, seed\n",
    "\n",
    "        random.Random(seed).shuffle(trainset_copy)\n",
    "        size = random.Random(seed).randint(self.min_num_samples, self.max_num_samples)\n",
    "\n",
    "        optimizer = BootstrapFewShot(\n",
    "            metric=self.metric,\n",
    "            metric_threshold=self.metric_threshold,\n",
    "            max_bootstrapped_demos=size,\n",
    "            max_labeled_demos=self.max_labeled_demos,\n",
    "            teacher_settings=self.teacher_settings,\n",
    "            max_rounds=self.max_rounds,\n",
    "            max_errors=self.max_errors,\n",
    "        )\n",
    "\n",
    "        program = optimizer.compile(student, teacher=teacher, trainset=trainset_copy)\n",
    "\n",
    "    evaluate = Evaluate(\n",
    "        devset=self.valset,\n",
    "        metric=self.metric,\n",
    "        num_threads=self.num_threads,\n",
    "        max_errors=self.max_errors,\n",
    "        display_table=False,\n",
    "        display_progress=True,\n",
    "    )\n",
    "\n",
    "    score, subscores = evaluate(program, return_all_scores=True)\n",
    "\n",
    "    all_subscores.append(subscores)"
   ]
  },
  {
   "cell_type": "markdown",
   "id": "cc4e963c-4c49-469c-9ebb-3486bd40cad8",
   "metadata": {},
   "source": [
    "### My own summary\n",
    "Given the number of programs we will generate each time a different seed and run BootStrapFewShot with that "
   ]
  },
  {
   "cell_type": "markdown",
   "id": "c8f8ed4e-59fe-4657-a760-61e7d212c99f",
   "metadata": {},
   "source": [
    "# Evaluation"
   ]
  },
  {
   "cell_type": "markdown",
   "id": "97081940-62e1-470a-b227-c5465b1ddc7c",
   "metadata": {},
   "source": [
    "## Single Evaluation"
   ]
  },
  {
   "cell_type": "code",
   "execution_count": 13,
   "id": "16175d77-0aa0-4265-8da0-b8ad3dd7325a",
   "metadata": {},
   "outputs": [
    {
     "name": "stdout",
     "output_type": "stream",
     "text": [
      "Example({'customer_message': 'show flights from minneapolis to kansas city', 'answer': 'flight', 'intent_labels': 'flight%flight_time%airfare%aircraft%ground_service%airport%airline%distance%abbreviation%ground_fare%quantity%city%flight_no%capacity%flight+airfare%meal%restriction%airline+flight_no%ground_service+ground_fare%airfare+flight_time%cheapest%aircraft+flight+flight_no'}) (input_keys={'customer_message', 'intent_labels'})\n",
      "Prediction(\n",
      "    rationale='identify the customer\\'s intent. The customer is asking to see flights from one city (Minneapolis) to another (Kansas City). This indicates that they are looking for information related to flights, specifically the availability of flights between these two locations. The intent clearly aligns with searching for flights, which is represented by the label \"flight.\"',\n",
      "    answer='flight'\n",
      ")\n",
      "Customer message: \t show flights from minneapolis to kansas city\n",
      "\n",
      "Gold Response: \t flight\n",
      "\n",
      "Predicted Response: \t flight\n",
      "\n",
      "Exact match score: 1.00\n"
     ]
    }
   ],
   "source": [
    "from dspy.evaluate import answer_exact_match\n",
    "\n",
    "# Instantiate the metric.\n",
    "metric = answer_exact_match\n",
    "\n",
    "example = test_examples[0]\n",
    "# Produce a prediction from our `cot` module, using the `example` above as input.\n",
    "print(example)\n",
    "pred = cot_predictor(**example.inputs())\n",
    "print(pred)\n",
    "\n",
    "# Compute the metric score for the prediction.\n",
    "score = metric(example, pred)\n",
    "\n",
    "print(f\"Customer message: \\t {example.customer_message}\\n\")\n",
    "print(f\"Gold Response: \\t {example.answer}\\n\")\n",
    "print(f\"Predicted Response: \\t {pred.answer}\\n\")\n",
    "print(f\"Exact match score: {score:.2f}\")"
   ]
  },
  {
   "cell_type": "markdown",
   "id": "8b6a33cf-0fdc-458c-a698-6cb2e0fe1732",
   "metadata": {},
   "source": [
    "## Setup Evaluation"
   ]
  },
  {
   "cell_type": "code",
   "execution_count": 14,
   "id": "64bc0f61-727b-4a12-88e2-71d7bea426ba",
   "metadata": {},
   "outputs": [
    {
     "name": "stdout",
     "output_type": "stream",
     "text": [
      "36\n"
     ]
    }
   ],
   "source": [
    "from dspy.evaluate.evaluate import Evaluate\n",
    "# Set up the `evaluate_atis` function. We'll use this many times below.\n",
    "print(len(train_examples))\n",
    "evaluate_atis = Evaluate(devset=test_examples, num_threads=8, display_progress=True, display_table=5, provide_traceback=True)"
   ]
  },
  {
   "cell_type": "markdown",
   "id": "7688f4de-726c-426a-a048-fbcbc3723a0e",
   "metadata": {},
   "source": [
    "## Evaluate zero shot CoT "
   ]
  },
  {
   "cell_type": "code",
   "execution_count": 15,
   "id": "06aca234-925e-4e8c-abb7-f9de1d54e4a4",
   "metadata": {},
   "outputs": [
    {
     "name": "stderr",
     "output_type": "stream",
     "text": [
      "Average Metric: 37 / 42  (88.1): 100%|██████████████████████████████████████████████████████████████████████████████████████████████████| 42/42 [00:08<00:00,  5.17it/s]\n",
      "2024/11/18 09:19:01 INFO dspy.evaluate.evaluate: Average Metric: 37 / 42 (88.1%)\n"
     ]
    },
    {
     "data": {
      "text/html": [
       "<style type=\"text/css\">\n",
       "#T_8ef37 th {\n",
       "  text-align: left;\n",
       "}\n",
       "#T_8ef37 td {\n",
       "  text-align: left;\n",
       "}\n",
       "#T_8ef37_row0_col0, #T_8ef37_row0_col1, #T_8ef37_row0_col2, #T_8ef37_row0_col3, #T_8ef37_row0_col4, #T_8ef37_row0_col5, #T_8ef37_row1_col0, #T_8ef37_row1_col1, #T_8ef37_row1_col2, #T_8ef37_row1_col3, #T_8ef37_row1_col4, #T_8ef37_row1_col5, #T_8ef37_row2_col0, #T_8ef37_row2_col1, #T_8ef37_row2_col2, #T_8ef37_row2_col3, #T_8ef37_row2_col4, #T_8ef37_row2_col5, #T_8ef37_row3_col0, #T_8ef37_row3_col1, #T_8ef37_row3_col2, #T_8ef37_row3_col3, #T_8ef37_row3_col4, #T_8ef37_row3_col5, #T_8ef37_row4_col0, #T_8ef37_row4_col1, #T_8ef37_row4_col2, #T_8ef37_row4_col3, #T_8ef37_row4_col4, #T_8ef37_row4_col5 {\n",
       "  text-align: left;\n",
       "  white-space: pre-wrap;\n",
       "  word-wrap: break-word;\n",
       "  max-width: 400px;\n",
       "}\n",
       "</style>\n",
       "<table id=\"T_8ef37\">\n",
       "  <thead>\n",
       "    <tr>\n",
       "      <th class=\"blank level0\" >&nbsp;</th>\n",
       "      <th id=\"T_8ef37_level0_col0\" class=\"col_heading level0 col0\" >customer_message</th>\n",
       "      <th id=\"T_8ef37_level0_col1\" class=\"col_heading level0 col1\" >example_answer</th>\n",
       "      <th id=\"T_8ef37_level0_col2\" class=\"col_heading level0 col2\" >intent_labels</th>\n",
       "      <th id=\"T_8ef37_level0_col3\" class=\"col_heading level0 col3\" >rationale</th>\n",
       "      <th id=\"T_8ef37_level0_col4\" class=\"col_heading level0 col4\" >pred_answer</th>\n",
       "      <th id=\"T_8ef37_level0_col5\" class=\"col_heading level0 col5\" >answer_exact_match</th>\n",
       "    </tr>\n",
       "  </thead>\n",
       "  <tbody>\n",
       "    <tr>\n",
       "      <th id=\"T_8ef37_level0_row0\" class=\"row_heading level0 row0\" >0</th>\n",
       "      <td id=\"T_8ef37_row0_col0\" class=\"data row0 col0\" >show flights from minneapolis to kansas city</td>\n",
       "      <td id=\"T_8ef37_row0_col1\" class=\"data row0 col1\" >flight</td>\n",
       "      <td id=\"T_8ef37_row0_col2\" class=\"data row0 col2\" >flight%flight_time%airfare%aircraft%ground_service%airport%airline%distance%abbreviation%ground_fare%quantity%city%flight_no%capacity%flight+airfare%meal%restriction%airline+flight_no%ground_service+ground_fare%airfare+flight_time%cheapest%aircraft+flight+flight_no</td>\n",
       "      <td id=\"T_8ef37_row0_col3\" class=\"data row0 col3\" >identify the customer's intent. The customer is asking to see flights from one city (Minneapolis) to another (Kansas City). This indicates that they are looking...</td>\n",
       "      <td id=\"T_8ef37_row0_col4\" class=\"data row0 col4\" >flight</td>\n",
       "      <td id=\"T_8ef37_row0_col5\" class=\"data row0 col5\" >✔️ [True]</td>\n",
       "    </tr>\n",
       "    <tr>\n",
       "      <th id=\"T_8ef37_level0_row1\" class=\"row_heading level0 row1\" >1</th>\n",
       "      <td id=\"T_8ef37_row1_col0\" class=\"data row1 col0\" >which flights leave on wednesday april thirteenth from indianapolis and arrive in montreal in the morning</td>\n",
       "      <td id=\"T_8ef37_row1_col1\" class=\"data row1 col1\" >flight</td>\n",
       "      <td id=\"T_8ef37_row1_col2\" class=\"data row1 col2\" >flight%flight_time%airfare%aircraft%ground_service%airport%airline%distance%abbreviation%ground_fare%quantity%city%flight_no%capacity%flight+airfare%meal%restriction%airline+flight_no%ground_service+ground_fare%airfare+flight_time%cheapest%aircraft+flight+flight_no</td>\n",
       "      <td id=\"T_8ef37_row1_col3\" class=\"data row1 col3\" >produce the answer. We need to identify the main focus of the customer's message. The customer is inquiring about flights, specifically looking for details about...</td>\n",
       "      <td id=\"T_8ef37_row1_col4\" class=\"data row1 col4\" >flight_time</td>\n",
       "      <td id=\"T_8ef37_row1_col5\" class=\"data row1 col5\" ></td>\n",
       "    </tr>\n",
       "    <tr>\n",
       "      <th id=\"T_8ef37_level0_row2\" class=\"row_heading level0 row2\" >2</th>\n",
       "      <td id=\"T_8ef37_row2_col0\" class=\"data row2 col0\" >i would like flight information from phoenix to denver</td>\n",
       "      <td id=\"T_8ef37_row2_col1\" class=\"data row2 col1\" >flight</td>\n",
       "      <td id=\"T_8ef37_row2_col2\" class=\"data row2 col2\" >flight%flight_time%airfare%aircraft%ground_service%airport%airline%distance%abbreviation%ground_fare%quantity%city%flight_no%capacity%flight+airfare%meal%restriction%airline+flight_no%ground_service+ground_fare%airfare+flight_time%cheapest%aircraft+flight+flight_no</td>\n",
       "      <td id=\"T_8ef37_row2_col3\" class=\"data row2 col3\" >identify the customer's intent. The customer is asking for specific information regarding a flight from Phoenix to Denver. This request involves details about the flight,...</td>\n",
       "      <td id=\"T_8ef37_row2_col4\" class=\"data row2 col4\" >flight</td>\n",
       "      <td id=\"T_8ef37_row2_col5\" class=\"data row2 col5\" >✔️ [True]</td>\n",
       "    </tr>\n",
       "    <tr>\n",
       "      <th id=\"T_8ef37_level0_row3\" class=\"row_heading level0 row3\" >3</th>\n",
       "      <td id=\"T_8ef37_row3_col0\" class=\"data row3 col0\" >how much is coach flight from pittsburgh to atlanta</td>\n",
       "      <td id=\"T_8ef37_row3_col1\" class=\"data row3 col1\" >airfare</td>\n",
       "      <td id=\"T_8ef37_row3_col2\" class=\"data row3 col2\" >flight%flight_time%airfare%aircraft%ground_service%airport%airline%distance%abbreviation%ground_fare%quantity%city%flight_no%capacity%flight+airfare%meal%restriction%airline+flight_no%ground_service+ground_fare%airfare+flight_time%cheapest%aircraft+flight+flight_no</td>\n",
       "      <td id=\"T_8ef37_row3_col3\" class=\"data row3 col3\" >determine the customer's intent. The customer is inquiring about the cost of a coach flight from Pittsburgh to Atlanta, which directly relates to airfare. The...</td>\n",
       "      <td id=\"T_8ef37_row3_col4\" class=\"data row3 col4\" >airfare</td>\n",
       "      <td id=\"T_8ef37_row3_col5\" class=\"data row3 col5\" >✔️ [True]</td>\n",
       "    </tr>\n",
       "    <tr>\n",
       "      <th id=\"T_8ef37_level0_row4\" class=\"row_heading level0 row4\" >4</th>\n",
       "      <td id=\"T_8ef37_row4_col0\" class=\"data row4 col0\" >list airfares for first class round trip from detroit to st. petersburg</td>\n",
       "      <td id=\"T_8ef37_row4_col1\" class=\"data row4 col1\" >airfare</td>\n",
       "      <td id=\"T_8ef37_row4_col2\" class=\"data row4 col2\" >flight%flight_time%airfare%aircraft%ground_service%airport%airline%distance%abbreviation%ground_fare%quantity%city%flight_no%capacity%flight+airfare%meal%restriction%airline+flight_no%ground_service+ground_fare%airfare+flight_time%cheapest%aircraft+flight+flight_no</td>\n",
       "      <td id=\"T_8ef37_row4_col3\" class=\"data row4 col3\" >identify the customer's intent. The customer is asking for information about airfares specifically for a first-class round trip flight from Detroit to St. Petersburg. This...</td>\n",
       "      <td id=\"T_8ef37_row4_col4\" class=\"data row4 col4\" >airfare</td>\n",
       "      <td id=\"T_8ef37_row4_col5\" class=\"data row4 col5\" >✔️ [True]</td>\n",
       "    </tr>\n",
       "  </tbody>\n",
       "</table>\n"
      ],
      "text/plain": [
       "<pandas.io.formats.style.Styler at 0x7e04647eb700>"
      ]
     },
     "metadata": {},
     "output_type": "display_data"
    },
    {
     "data": {
      "text/html": [
       "\n",
       "                <div style='\n",
       "                    text-align: center;\n",
       "                    font-size: 16px;\n",
       "                    font-weight: bold;\n",
       "                    color: #555;\n",
       "                    margin: 10px 0;'>\n",
       "                    ... 37 more rows not displayed ...\n",
       "                </div>\n",
       "                "
      ],
      "text/plain": [
       "<IPython.core.display.HTML object>"
      ]
     },
     "metadata": {},
     "output_type": "display_data"
    },
    {
     "data": {
      "text/plain": [
       "88.1"
      ]
     },
     "execution_count": 15,
     "metadata": {},
     "output_type": "execute_result"
    }
   ],
   "source": [
    "# Evaluate the program with the `answer_exact_match` metric.\n",
    "# Launch evaluation.\n",
    "evaluate_atis(cot_predictor, metric=metric)\n"
   ]
  },
  {
   "cell_type": "markdown",
   "id": "eefa60d2-dac0-4646-afed-ee34e6675619",
   "metadata": {},
   "source": [
    "## Evaluate few shot CoT"
   ]
  },
  {
   "cell_type": "code",
   "execution_count": 16,
   "id": "142910a7-ef4a-44c0-b48d-b9e999e74553",
   "metadata": {},
   "outputs": [
    {
     "name": "stderr",
     "output_type": "stream",
     "text": [
      "Average Metric: 33 / 42  (78.6): 100%|██████████████████████████████████████████████████████████████████████████████████████████████████| 42/42 [00:14<00:00,  2.98it/s]\n",
      "2024/11/18 09:19:22 INFO dspy.evaluate.evaluate: Average Metric: 33 / 42 (78.6%)\n"
     ]
    },
    {
     "data": {
      "text/html": [
       "<style type=\"text/css\">\n",
       "#T_9c361 th {\n",
       "  text-align: left;\n",
       "}\n",
       "#T_9c361 td {\n",
       "  text-align: left;\n",
       "}\n",
       "#T_9c361_row0_col0, #T_9c361_row0_col1, #T_9c361_row0_col2, #T_9c361_row0_col3, #T_9c361_row0_col4, #T_9c361_row0_col5, #T_9c361_row1_col0, #T_9c361_row1_col1, #T_9c361_row1_col2, #T_9c361_row1_col3, #T_9c361_row1_col4, #T_9c361_row1_col5, #T_9c361_row2_col0, #T_9c361_row2_col1, #T_9c361_row2_col2, #T_9c361_row2_col3, #T_9c361_row2_col4, #T_9c361_row2_col5, #T_9c361_row3_col0, #T_9c361_row3_col1, #T_9c361_row3_col2, #T_9c361_row3_col3, #T_9c361_row3_col4, #T_9c361_row3_col5, #T_9c361_row4_col0, #T_9c361_row4_col1, #T_9c361_row4_col2, #T_9c361_row4_col3, #T_9c361_row4_col4, #T_9c361_row4_col5 {\n",
       "  text-align: left;\n",
       "  white-space: pre-wrap;\n",
       "  word-wrap: break-word;\n",
       "  max-width: 400px;\n",
       "}\n",
       "</style>\n",
       "<table id=\"T_9c361\">\n",
       "  <thead>\n",
       "    <tr>\n",
       "      <th class=\"blank level0\" >&nbsp;</th>\n",
       "      <th id=\"T_9c361_level0_col0\" class=\"col_heading level0 col0\" >customer_message</th>\n",
       "      <th id=\"T_9c361_level0_col1\" class=\"col_heading level0 col1\" >example_answer</th>\n",
       "      <th id=\"T_9c361_level0_col2\" class=\"col_heading level0 col2\" >intent_labels</th>\n",
       "      <th id=\"T_9c361_level0_col3\" class=\"col_heading level0 col3\" >rationale</th>\n",
       "      <th id=\"T_9c361_level0_col4\" class=\"col_heading level0 col4\" >pred_answer</th>\n",
       "      <th id=\"T_9c361_level0_col5\" class=\"col_heading level0 col5\" >answer_exact_match</th>\n",
       "    </tr>\n",
       "  </thead>\n",
       "  <tbody>\n",
       "    <tr>\n",
       "      <th id=\"T_9c361_level0_row0\" class=\"row_heading level0 row0\" >0</th>\n",
       "      <td id=\"T_9c361_row0_col0\" class=\"data row0 col0\" >show flights from minneapolis to kansas city</td>\n",
       "      <td id=\"T_9c361_row0_col1\" class=\"data row0 col1\" >flight</td>\n",
       "      <td id=\"T_9c361_row0_col2\" class=\"data row0 col2\" >flight%flight_time%airfare%aircraft%ground_service%airport%airline%distance%abbreviation%ground_fare%quantity%city%flight_no%capacity%flight+airfare%meal%restriction%airline+flight_no%ground_service+ground_fare%airfare+flight_time%cheapest%aircraft+flight+flight_no</td>\n",
       "      <td id=\"T_9c361_row0_col3\" class=\"data row0 col3\" >produce the answer. We need to identify the main intent of the customer message. The customer is asking to see flights from one city to...</td>\n",
       "      <td id=\"T_9c361_row0_col4\" class=\"data row0 col4\" >flight</td>\n",
       "      <td id=\"T_9c361_row0_col5\" class=\"data row0 col5\" >✔️ [True]</td>\n",
       "    </tr>\n",
       "    <tr>\n",
       "      <th id=\"T_9c361_level0_row1\" class=\"row_heading level0 row1\" >1</th>\n",
       "      <td id=\"T_9c361_row1_col0\" class=\"data row1 col0\" >which flights leave on wednesday april thirteenth from indianapolis and arrive in montreal in the morning</td>\n",
       "      <td id=\"T_9c361_row1_col1\" class=\"data row1 col1\" >flight</td>\n",
       "      <td id=\"T_9c361_row1_col2\" class=\"data row1 col2\" >flight%flight_time%airfare%aircraft%ground_service%airport%airline%distance%abbreviation%ground_fare%quantity%city%flight_no%capacity%flight+airfare%meal%restriction%airline+flight_no%ground_service+ground_fare%airfare+flight_time%cheapest%aircraft+flight+flight_no</td>\n",
       "      <td id=\"T_9c361_row1_col3\" class=\"data row1 col3\" >determine the intent of the customer's message. The customer is asking for information about flights that leave from Indianapolis and arrive in Montreal on a...</td>\n",
       "      <td id=\"T_9c361_row1_col4\" class=\"data row1 col4\" >flight_time</td>\n",
       "      <td id=\"T_9c361_row1_col5\" class=\"data row1 col5\" ></td>\n",
       "    </tr>\n",
       "    <tr>\n",
       "      <th id=\"T_9c361_level0_row2\" class=\"row_heading level0 row2\" >2</th>\n",
       "      <td id=\"T_9c361_row2_col0\" class=\"data row2 col0\" >i would like flight information from phoenix to denver</td>\n",
       "      <td id=\"T_9c361_row2_col1\" class=\"data row2 col1\" >flight</td>\n",
       "      <td id=\"T_9c361_row2_col2\" class=\"data row2 col2\" >flight%flight_time%airfare%aircraft%ground_service%airport%airline%distance%abbreviation%ground_fare%quantity%city%flight_no%capacity%flight+airfare%meal%restriction%airline+flight_no%ground_service+ground_fare%airfare+flight_time%cheapest%aircraft+flight+flight_no</td>\n",
       "      <td id=\"T_9c361_row2_col3\" class=\"data row2 col3\" >produce the answer. We need to identify the main focus of the customer's request. The customer is asking for flight information, which typically includes details...</td>\n",
       "      <td id=\"T_9c361_row2_col4\" class=\"data row2 col4\" >flight</td>\n",
       "      <td id=\"T_9c361_row2_col5\" class=\"data row2 col5\" >✔️ [True]</td>\n",
       "    </tr>\n",
       "    <tr>\n",
       "      <th id=\"T_9c361_level0_row3\" class=\"row_heading level0 row3\" >3</th>\n",
       "      <td id=\"T_9c361_row3_col0\" class=\"data row3 col0\" >how much is coach flight from pittsburgh to atlanta</td>\n",
       "      <td id=\"T_9c361_row3_col1\" class=\"data row3 col1\" >airfare</td>\n",
       "      <td id=\"T_9c361_row3_col2\" class=\"data row3 col2\" >flight%flight_time%airfare%aircraft%ground_service%airport%airline%distance%abbreviation%ground_fare%quantity%city%flight_no%capacity%flight+airfare%meal%restriction%airline+flight_no%ground_service+ground_fare%airfare+flight_time%cheapest%aircraft+flight+flight_no</td>\n",
       "      <td id=\"T_9c361_row3_col3\" class=\"data row3 col3\" >produce the answer. We need to identify the main focus of the customer's inquiry. The customer is asking about the cost of a coach flight...</td>\n",
       "      <td id=\"T_9c361_row3_col4\" class=\"data row3 col4\" >airfare</td>\n",
       "      <td id=\"T_9c361_row3_col5\" class=\"data row3 col5\" >✔️ [True]</td>\n",
       "    </tr>\n",
       "    <tr>\n",
       "      <th id=\"T_9c361_level0_row4\" class=\"row_heading level0 row4\" >4</th>\n",
       "      <td id=\"T_9c361_row4_col0\" class=\"data row4 col0\" >list airfares for first class round trip from detroit to st. petersburg</td>\n",
       "      <td id=\"T_9c361_row4_col1\" class=\"data row4 col1\" >airfare</td>\n",
       "      <td id=\"T_9c361_row4_col2\" class=\"data row4 col2\" >flight%flight_time%airfare%aircraft%ground_service%airport%airline%distance%abbreviation%ground_fare%quantity%city%flight_no%capacity%flight+airfare%meal%restriction%airline+flight_no%ground_service+ground_fare%airfare+flight_time%cheapest%aircraft+flight+flight_no</td>\n",
       "      <td id=\"T_9c361_row4_col3\" class=\"data row4 col3\" >produce the answer. We need to identify the main focus of the customer's request. The customer is asking for airfares specifically for first-class round trips,...</td>\n",
       "      <td id=\"T_9c361_row4_col4\" class=\"data row4 col4\" >airfare</td>\n",
       "      <td id=\"T_9c361_row4_col5\" class=\"data row4 col5\" >✔️ [True]</td>\n",
       "    </tr>\n",
       "  </tbody>\n",
       "</table>\n"
      ],
      "text/plain": [
       "<pandas.io.formats.style.Styler at 0x7e04647eb820>"
      ]
     },
     "metadata": {},
     "output_type": "display_data"
    },
    {
     "data": {
      "text/html": [
       "\n",
       "                <div style='\n",
       "                    text-align: center;\n",
       "                    font-size: 16px;\n",
       "                    font-weight: bold;\n",
       "                    color: #555;\n",
       "                    margin: 10px 0;'>\n",
       "                    ... 37 more rows not displayed ...\n",
       "                </div>\n",
       "                "
      ],
      "text/plain": [
       "<IPython.core.display.HTML object>"
      ]
     },
     "metadata": {},
     "output_type": "display_data"
    },
    {
     "data": {
      "text/plain": [
       "78.57"
      ]
     },
     "execution_count": 16,
     "metadata": {},
     "output_type": "execute_result"
    }
   ],
   "source": [
    "evaluate_atis(few_shot_model, metric=metric)"
   ]
  },
  {
   "cell_type": "markdown",
   "id": "4e91d4f9-a39f-4d5a-8d0a-bec4c0ba6501",
   "metadata": {},
   "source": [
    "## Evaluate BootstrapedFewShot"
   ]
  },
  {
   "cell_type": "code",
   "execution_count": 17,
   "id": "5f20ef32-d986-4fda-875a-deaa690651ac",
   "metadata": {},
   "outputs": [
    {
     "name": "stderr",
     "output_type": "stream",
     "text": [
      "Average Metric: 37 / 42  (88.1): 100%|██████████████████████████████████████████████████████████████████████████████████████████████████| 42/42 [00:10<00:00,  4.06it/s]\n",
      "2024/11/18 09:19:43 INFO dspy.evaluate.evaluate: Average Metric: 37 / 42 (88.1%)\n"
     ]
    },
    {
     "data": {
      "text/html": [
       "<style type=\"text/css\">\n",
       "#T_74721 th {\n",
       "  text-align: left;\n",
       "}\n",
       "#T_74721 td {\n",
       "  text-align: left;\n",
       "}\n",
       "#T_74721_row0_col0, #T_74721_row0_col1, #T_74721_row0_col2, #T_74721_row0_col3, #T_74721_row0_col4, #T_74721_row0_col5, #T_74721_row1_col0, #T_74721_row1_col1, #T_74721_row1_col2, #T_74721_row1_col3, #T_74721_row1_col4, #T_74721_row1_col5, #T_74721_row2_col0, #T_74721_row2_col1, #T_74721_row2_col2, #T_74721_row2_col3, #T_74721_row2_col4, #T_74721_row2_col5, #T_74721_row3_col0, #T_74721_row3_col1, #T_74721_row3_col2, #T_74721_row3_col3, #T_74721_row3_col4, #T_74721_row3_col5, #T_74721_row4_col0, #T_74721_row4_col1, #T_74721_row4_col2, #T_74721_row4_col3, #T_74721_row4_col4, #T_74721_row4_col5 {\n",
       "  text-align: left;\n",
       "  white-space: pre-wrap;\n",
       "  word-wrap: break-word;\n",
       "  max-width: 400px;\n",
       "}\n",
       "</style>\n",
       "<table id=\"T_74721\">\n",
       "  <thead>\n",
       "    <tr>\n",
       "      <th class=\"blank level0\" >&nbsp;</th>\n",
       "      <th id=\"T_74721_level0_col0\" class=\"col_heading level0 col0\" >customer_message</th>\n",
       "      <th id=\"T_74721_level0_col1\" class=\"col_heading level0 col1\" >example_answer</th>\n",
       "      <th id=\"T_74721_level0_col2\" class=\"col_heading level0 col2\" >intent_labels</th>\n",
       "      <th id=\"T_74721_level0_col3\" class=\"col_heading level0 col3\" >rationale</th>\n",
       "      <th id=\"T_74721_level0_col4\" class=\"col_heading level0 col4\" >pred_answer</th>\n",
       "      <th id=\"T_74721_level0_col5\" class=\"col_heading level0 col5\" >answer_exact_match</th>\n",
       "    </tr>\n",
       "  </thead>\n",
       "  <tbody>\n",
       "    <tr>\n",
       "      <th id=\"T_74721_level0_row0\" class=\"row_heading level0 row0\" >0</th>\n",
       "      <td id=\"T_74721_row0_col0\" class=\"data row0 col0\" >show flights from minneapolis to kansas city</td>\n",
       "      <td id=\"T_74721_row0_col1\" class=\"data row0 col1\" >flight</td>\n",
       "      <td id=\"T_74721_row0_col2\" class=\"data row0 col2\" >flight%flight_time%airfare%aircraft%ground_service%airport%airline%distance%abbreviation%ground_fare%quantity%city%flight_no%capacity%flight+airfare%meal%restriction%airline+flight_no%ground_service+ground_fare%airfare+flight_time%cheapest%aircraft+flight+flight_no</td>\n",
       "      <td id=\"T_74721_row0_col3\" class=\"data row0 col3\" >identify the main focus of the customer's request. The customer is asking to see flights from Minneapolis to Kansas City, which indicates a clear interest...</td>\n",
       "      <td id=\"T_74721_row0_col4\" class=\"data row0 col4\" >flight</td>\n",
       "      <td id=\"T_74721_row0_col5\" class=\"data row0 col5\" >✔️ [True]</td>\n",
       "    </tr>\n",
       "    <tr>\n",
       "      <th id=\"T_74721_level0_row1\" class=\"row_heading level0 row1\" >1</th>\n",
       "      <td id=\"T_74721_row1_col0\" class=\"data row1 col0\" >which flights leave on wednesday april thirteenth from indianapolis and arrive in montreal in the morning</td>\n",
       "      <td id=\"T_74721_row1_col1\" class=\"data row1 col1\" >flight</td>\n",
       "      <td id=\"T_74721_row1_col2\" class=\"data row1 col2\" >flight%flight_time%airfare%aircraft%ground_service%airport%airline%distance%abbreviation%ground_fare%quantity%city%flight_no%capacity%flight+airfare%meal%restriction%airline+flight_no%ground_service+ground_fare%airfare+flight_time%cheapest%aircraft+flight+flight_no</td>\n",
       "      <td id=\"T_74721_row1_col3\" class=\"data row1 col3\" >identify the intent of the customer's message. The customer is inquiring about flights that leave on a specific day (Wednesday, April 13th) from Indianapolis to...</td>\n",
       "      <td id=\"T_74721_row1_col4\" class=\"data row1 col4\" >flight</td>\n",
       "      <td id=\"T_74721_row1_col5\" class=\"data row1 col5\" >✔️ [True]</td>\n",
       "    </tr>\n",
       "    <tr>\n",
       "      <th id=\"T_74721_level0_row2\" class=\"row_heading level0 row2\" >2</th>\n",
       "      <td id=\"T_74721_row2_col0\" class=\"data row2 col0\" >i would like flight information from phoenix to denver</td>\n",
       "      <td id=\"T_74721_row2_col1\" class=\"data row2 col1\" >flight</td>\n",
       "      <td id=\"T_74721_row2_col2\" class=\"data row2 col2\" >flight%flight_time%airfare%aircraft%ground_service%airport%airline%distance%abbreviation%ground_fare%quantity%city%flight_no%capacity%flight+airfare%meal%restriction%airline+flight_no%ground_service+ground_fare%airfare+flight_time%cheapest%aircraft+flight+flight_no</td>\n",
       "      <td id=\"T_74721_row2_col3\" class=\"data row2 col3\" >identify the main focus of the customer's request. The customer is explicitly asking for flight information regarding a route from Phoenix to Denver. This indicates...</td>\n",
       "      <td id=\"T_74721_row2_col4\" class=\"data row2 col4\" >flight</td>\n",
       "      <td id=\"T_74721_row2_col5\" class=\"data row2 col5\" >✔️ [True]</td>\n",
       "    </tr>\n",
       "    <tr>\n",
       "      <th id=\"T_74721_level0_row3\" class=\"row_heading level0 row3\" >3</th>\n",
       "      <td id=\"T_74721_row3_col0\" class=\"data row3 col0\" >how much is coach flight from pittsburgh to atlanta</td>\n",
       "      <td id=\"T_74721_row3_col1\" class=\"data row3 col1\" >airfare</td>\n",
       "      <td id=\"T_74721_row3_col2\" class=\"data row3 col2\" >flight%flight_time%airfare%aircraft%ground_service%airport%airline%distance%abbreviation%ground_fare%quantity%city%flight_no%capacity%flight+airfare%meal%restriction%airline+flight_no%ground_service+ground_fare%airfare+flight_time%cheapest%aircraft+flight+flight_no</td>\n",
       "      <td id=\"T_74721_row3_col3\" class=\"data row3 col3\" >identify the main focus of the customer's inquiry. The customer is asking about the cost of a coach flight from Pittsburgh to Atlanta, which indicates...</td>\n",
       "      <td id=\"T_74721_row3_col4\" class=\"data row3 col4\" >airfare</td>\n",
       "      <td id=\"T_74721_row3_col5\" class=\"data row3 col5\" >✔️ [True]</td>\n",
       "    </tr>\n",
       "    <tr>\n",
       "      <th id=\"T_74721_level0_row4\" class=\"row_heading level0 row4\" >4</th>\n",
       "      <td id=\"T_74721_row4_col0\" class=\"data row4 col0\" >list airfares for first class round trip from detroit to st. petersburg</td>\n",
       "      <td id=\"T_74721_row4_col1\" class=\"data row4 col1\" >airfare</td>\n",
       "      <td id=\"T_74721_row4_col2\" class=\"data row4 col2\" >flight%flight_time%airfare%aircraft%ground_service%airport%airline%distance%abbreviation%ground_fare%quantity%city%flight_no%capacity%flight+airfare%meal%restriction%airline+flight_no%ground_service+ground_fare%airfare+flight_time%cheapest%aircraft+flight+flight_no</td>\n",
       "      <td id=\"T_74721_row4_col3\" class=\"data row4 col3\" >identify the main focus of the customer's request. The customer is asking for airfares specifically for first-class round trip flights from Detroit to St. Petersburg....</td>\n",
       "      <td id=\"T_74721_row4_col4\" class=\"data row4 col4\" >airfare</td>\n",
       "      <td id=\"T_74721_row4_col5\" class=\"data row4 col5\" >✔️ [True]</td>\n",
       "    </tr>\n",
       "  </tbody>\n",
       "</table>\n"
      ],
      "text/plain": [
       "<pandas.io.formats.style.Styler at 0x7e04755a6f80>"
      ]
     },
     "metadata": {},
     "output_type": "display_data"
    },
    {
     "data": {
      "text/html": [
       "\n",
       "                <div style='\n",
       "                    text-align: center;\n",
       "                    font-size: 16px;\n",
       "                    font-weight: bold;\n",
       "                    color: #555;\n",
       "                    margin: 10px 0;'>\n",
       "                    ... 37 more rows not displayed ...\n",
       "                </div>\n",
       "                "
      ],
      "text/plain": [
       "<IPython.core.display.HTML object>"
      ]
     },
     "metadata": {},
     "output_type": "display_data"
    },
    {
     "data": {
      "text/plain": [
       "88.1"
      ]
     },
     "execution_count": 17,
     "metadata": {},
     "output_type": "execute_result"
    }
   ],
   "source": [
    "evaluate_atis(cot_few_shot_optimized, metric=metric)"
   ]
  },
  {
   "cell_type": "markdown",
   "id": "67f56d55-d44f-4a9a-b5ba-3e93670fc8fd",
   "metadata": {},
   "source": [
    "## Evaluate Boostraped Random Search"
   ]
  },
  {
   "cell_type": "code",
   "execution_count": 18,
   "id": "8a0491f8-dd36-4910-8db5-f3036a00960a",
   "metadata": {},
   "outputs": [
    {
     "name": "stderr",
     "output_type": "stream",
     "text": [
      "Average Metric: 40 / 42  (95.2): 100%|██████████████████████████████████████████████████████████████████████████████████████████████████| 42/42 [00:09<00:00,  4.22it/s]\n",
      "2024/11/18 09:19:58 INFO dspy.evaluate.evaluate: Average Metric: 40 / 42 (95.2%)\n"
     ]
    },
    {
     "data": {
      "text/html": [
       "<style type=\"text/css\">\n",
       "#T_fa7d3 th {\n",
       "  text-align: left;\n",
       "}\n",
       "#T_fa7d3 td {\n",
       "  text-align: left;\n",
       "}\n",
       "#T_fa7d3_row0_col0, #T_fa7d3_row0_col1, #T_fa7d3_row0_col2, #T_fa7d3_row0_col3, #T_fa7d3_row0_col4, #T_fa7d3_row0_col5, #T_fa7d3_row1_col0, #T_fa7d3_row1_col1, #T_fa7d3_row1_col2, #T_fa7d3_row1_col3, #T_fa7d3_row1_col4, #T_fa7d3_row1_col5, #T_fa7d3_row2_col0, #T_fa7d3_row2_col1, #T_fa7d3_row2_col2, #T_fa7d3_row2_col3, #T_fa7d3_row2_col4, #T_fa7d3_row2_col5, #T_fa7d3_row3_col0, #T_fa7d3_row3_col1, #T_fa7d3_row3_col2, #T_fa7d3_row3_col3, #T_fa7d3_row3_col4, #T_fa7d3_row3_col5, #T_fa7d3_row4_col0, #T_fa7d3_row4_col1, #T_fa7d3_row4_col2, #T_fa7d3_row4_col3, #T_fa7d3_row4_col4, #T_fa7d3_row4_col5 {\n",
       "  text-align: left;\n",
       "  white-space: pre-wrap;\n",
       "  word-wrap: break-word;\n",
       "  max-width: 400px;\n",
       "}\n",
       "</style>\n",
       "<table id=\"T_fa7d3\">\n",
       "  <thead>\n",
       "    <tr>\n",
       "      <th class=\"blank level0\" >&nbsp;</th>\n",
       "      <th id=\"T_fa7d3_level0_col0\" class=\"col_heading level0 col0\" >customer_message</th>\n",
       "      <th id=\"T_fa7d3_level0_col1\" class=\"col_heading level0 col1\" >example_answer</th>\n",
       "      <th id=\"T_fa7d3_level0_col2\" class=\"col_heading level0 col2\" >intent_labels</th>\n",
       "      <th id=\"T_fa7d3_level0_col3\" class=\"col_heading level0 col3\" >rationale</th>\n",
       "      <th id=\"T_fa7d3_level0_col4\" class=\"col_heading level0 col4\" >pred_answer</th>\n",
       "      <th id=\"T_fa7d3_level0_col5\" class=\"col_heading level0 col5\" >answer_exact_match</th>\n",
       "    </tr>\n",
       "  </thead>\n",
       "  <tbody>\n",
       "    <tr>\n",
       "      <th id=\"T_fa7d3_level0_row0\" class=\"row_heading level0 row0\" >0</th>\n",
       "      <td id=\"T_fa7d3_row0_col0\" class=\"data row0 col0\" >show flights from minneapolis to kansas city</td>\n",
       "      <td id=\"T_fa7d3_row0_col1\" class=\"data row0 col1\" >flight</td>\n",
       "      <td id=\"T_fa7d3_row0_col2\" class=\"data row0 col2\" >flight%flight_time%airfare%aircraft%ground_service%airport%airline%distance%abbreviation%ground_fare%quantity%city%flight_no%capacity%flight+airfare%meal%restriction%airline+flight_no%ground_service+ground_fare%airfare+flight_time%cheapest%aircraft+flight+flight_no</td>\n",
       "      <td id=\"T_fa7d3_row0_col3\" class=\"data row0 col3\" >determine the intent of the customer's message. The customer is asking to see flights between two specific cities, which indicates they are looking for information...</td>\n",
       "      <td id=\"T_fa7d3_row0_col4\" class=\"data row0 col4\" >flight</td>\n",
       "      <td id=\"T_fa7d3_row0_col5\" class=\"data row0 col5\" >✔️ [True]</td>\n",
       "    </tr>\n",
       "    <tr>\n",
       "      <th id=\"T_fa7d3_level0_row1\" class=\"row_heading level0 row1\" >1</th>\n",
       "      <td id=\"T_fa7d3_row1_col0\" class=\"data row1 col0\" >which flights leave on wednesday april thirteenth from indianapolis and arrive in montreal in the morning</td>\n",
       "      <td id=\"T_fa7d3_row1_col1\" class=\"data row1 col1\" >flight</td>\n",
       "      <td id=\"T_fa7d3_row1_col2\" class=\"data row1 col2\" >flight%flight_time%airfare%aircraft%ground_service%airport%airline%distance%abbreviation%ground_fare%quantity%city%flight_no%capacity%flight+airfare%meal%restriction%airline+flight_no%ground_service+ground_fare%airfare+flight_time%cheapest%aircraft+flight+flight_no</td>\n",
       "      <td id=\"T_fa7d3_row1_col3\" class=\"data row1 col3\" >determine the intent of the customer's message. The customer is asking for specific flight information regarding flights that leave from a particular city on a...</td>\n",
       "      <td id=\"T_fa7d3_row1_col4\" class=\"data row1 col4\" >flight</td>\n",
       "      <td id=\"T_fa7d3_row1_col5\" class=\"data row1 col5\" >✔️ [True]</td>\n",
       "    </tr>\n",
       "    <tr>\n",
       "      <th id=\"T_fa7d3_level0_row2\" class=\"row_heading level0 row2\" >2</th>\n",
       "      <td id=\"T_fa7d3_row2_col0\" class=\"data row2 col0\" >i would like flight information from phoenix to denver</td>\n",
       "      <td id=\"T_fa7d3_row2_col1\" class=\"data row2 col1\" >flight</td>\n",
       "      <td id=\"T_fa7d3_row2_col2\" class=\"data row2 col2\" >flight%flight_time%airfare%aircraft%ground_service%airport%airline%distance%abbreviation%ground_fare%quantity%city%flight_no%capacity%flight+airfare%meal%restriction%airline+flight_no%ground_service+ground_fare%airfare+flight_time%cheapest%aircraft+flight+flight_no</td>\n",
       "      <td id=\"T_fa7d3_row2_col3\" class=\"data row2 col3\" >determine the intent of the customer's message. The customer is requesting flight information between two specific cities, which indicates they are looking for details related...</td>\n",
       "      <td id=\"T_fa7d3_row2_col4\" class=\"data row2 col4\" >flight</td>\n",
       "      <td id=\"T_fa7d3_row2_col5\" class=\"data row2 col5\" >✔️ [True]</td>\n",
       "    </tr>\n",
       "    <tr>\n",
       "      <th id=\"T_fa7d3_level0_row3\" class=\"row_heading level0 row3\" >3</th>\n",
       "      <td id=\"T_fa7d3_row3_col0\" class=\"data row3 col0\" >how much is coach flight from pittsburgh to atlanta</td>\n",
       "      <td id=\"T_fa7d3_row3_col1\" class=\"data row3 col1\" >airfare</td>\n",
       "      <td id=\"T_fa7d3_row3_col2\" class=\"data row3 col2\" >flight%flight_time%airfare%aircraft%ground_service%airport%airline%distance%abbreviation%ground_fare%quantity%city%flight_no%capacity%flight+airfare%meal%restriction%airline+flight_no%ground_service+ground_fare%airfare+flight_time%cheapest%aircraft+flight+flight_no</td>\n",
       "      <td id=\"T_fa7d3_row3_col3\" class=\"data row3 col3\" >determine the intent of the customer's message. The customer is inquiring about the cost of a specific type of flight (coach) from one city to...</td>\n",
       "      <td id=\"T_fa7d3_row3_col4\" class=\"data row3 col4\" >airfare</td>\n",
       "      <td id=\"T_fa7d3_row3_col5\" class=\"data row3 col5\" >✔️ [True]</td>\n",
       "    </tr>\n",
       "    <tr>\n",
       "      <th id=\"T_fa7d3_level0_row4\" class=\"row_heading level0 row4\" >4</th>\n",
       "      <td id=\"T_fa7d3_row4_col0\" class=\"data row4 col0\" >list airfares for first class round trip from detroit to st. petersburg</td>\n",
       "      <td id=\"T_fa7d3_row4_col1\" class=\"data row4 col1\" >airfare</td>\n",
       "      <td id=\"T_fa7d3_row4_col2\" class=\"data row4 col2\" >flight%flight_time%airfare%aircraft%ground_service%airport%airline%distance%abbreviation%ground_fare%quantity%city%flight_no%capacity%flight+airfare%meal%restriction%airline+flight_no%ground_service+ground_fare%airfare+flight_time%cheapest%aircraft+flight+flight_no</td>\n",
       "      <td id=\"T_fa7d3_row4_col3\" class=\"data row4 col3\" >determine the intent of the customer's message. The customer is asking for information about airfares specifically for first class round trip flights between two cities....</td>\n",
       "      <td id=\"T_fa7d3_row4_col4\" class=\"data row4 col4\" >airfare</td>\n",
       "      <td id=\"T_fa7d3_row4_col5\" class=\"data row4 col5\" >✔️ [True]</td>\n",
       "    </tr>\n",
       "  </tbody>\n",
       "</table>\n"
      ],
      "text/plain": [
       "<pandas.io.formats.style.Styler at 0x7e047408a200>"
      ]
     },
     "metadata": {},
     "output_type": "display_data"
    },
    {
     "data": {
      "text/html": [
       "\n",
       "                <div style='\n",
       "                    text-align: center;\n",
       "                    font-size: 16px;\n",
       "                    font-weight: bold;\n",
       "                    color: #555;\n",
       "                    margin: 10px 0;'>\n",
       "                    ... 37 more rows not displayed ...\n",
       "                </div>\n",
       "                "
      ],
      "text/plain": [
       "<IPython.core.display.HTML object>"
      ]
     },
     "metadata": {},
     "output_type": "display_data"
    },
    {
     "data": {
      "text/plain": [
       "95.24"
      ]
     },
     "execution_count": 18,
     "metadata": {},
     "output_type": "execute_result"
    }
   ],
   "source": [
    "evaluate_atis(cot_few_shot_rs_optimized, metric=metric)"
   ]
  },
  {
   "cell_type": "markdown",
   "id": "bca34c63-f758-48c3-b7d8-c25b54045125",
   "metadata": {},
   "source": [
    "# Save / Load models"
   ]
  },
  {
   "cell_type": "code",
   "execution_count": 21,
   "id": "b2476c94-4ff1-4467-a9ee-acf8e4121cf1",
   "metadata": {},
   "outputs": [],
   "source": [
    "cot_predictor.save(\"cot_zero_shot.json\")\n",
    "few_shot_model.save(\"cot_few_shot.json\")\n",
    "cot_few_shot_optimized.save(\"cot_boostraped_few_shot.json\")\n",
    "cot_few_shot_rs_optimized.save(\"cot_bootstraped_rs_few_shot.json\")"
   ]
  },
  {
   "cell_type": "code",
   "execution_count": 22,
   "id": "ee875833-b02d-4ef8-a218-3b242dba4292",
   "metadata": {},
   "outputs": [],
   "source": [
    "cot_predictor.load(\"cot_zero_shot.json\")\n",
    "few_shot_model.load(\"cot_few_shot.json\")\n",
    "cot_few_shot_optimized.load(\"cot_boostraped_few_shot.json\")\n",
    "cot_few_shot_rs_optimized.load(\"cot_bootstraped_rs_few_shot.json\")"
   ]
  },
  {
   "cell_type": "code",
   "execution_count": null,
   "id": "63c9f057-c9bb-40d7-812b-8f570dc78d05",
   "metadata": {},
   "outputs": [],
   "source": []
  },
  {
   "cell_type": "code",
   "execution_count": null,
   "id": "7f29f4cd-3511-4e4c-9bd3-c3a6adf687e5",
   "metadata": {},
   "outputs": [],
   "source": []
  },
  {
   "cell_type": "code",
   "execution_count": 27,
   "id": "40ca28e6-e75f-4976-9a1c-2237102b7932",
   "metadata": {},
   "outputs": [
    {
     "data": {
      "text/plain": [
       "[Predict(StringSignature(customer_message, intent_labels -> rationale, answer\n",
       "     instructions='Classify the customer message into one of the intent labels.\\nThe output should be only the predicted class as a single intent label.'\n",
       "     customer_message = Field(annotation=str required=True json_schema_extra={'desc': 'Customer message during customer service interaction', '__dspy_field_type': 'input', 'prefix': 'Customer Message:'})\n",
       "     intent_labels = Field(annotation=str required=True json_schema_extra={'desc': 'Labels that represent customer intent', '__dspy_field_type': 'input', 'prefix': 'Intent Labels:'})\n",
       "     rationale = Field(annotation=str required=True json_schema_extra={'prefix': \"Reasoning: Let's think step by step in order to\", 'desc': '${produce the answer}. We ...', '__dspy_field_type': 'output'})\n",
       "     answer = Field(annotation=str required=True json_schema_extra={'desc': \"a label best matching customer's intent \", '__dspy_field_type': 'output', 'prefix': 'Answer:'})\n",
       " ))]"
      ]
     },
     "execution_count": 27,
     "metadata": {},
     "output_type": "execute_result"
    }
   ],
   "source": [
    "cot_predictor.parameters()"
   ]
  },
  {
   "cell_type": "code",
   "execution_count": 30,
   "id": "c176b4f0-ce8c-40a0-b905-be11ff0d4332",
   "metadata": {},
   "outputs": [
    {
     "data": {
      "text/plain": [
       "[Example({'customer_message': 'what kind of plane flies from boston to pittsburgh after noon', 'answer': 'aircraft', 'intent_labels': 'flight%flight_time%airfare%aircraft%ground_service%airport%airline%distance%abbreviation%ground_fare%quantity%city%flight_no%capacity%flight+airfare%meal%restriction%airline+flight_no%ground_service+ground_fare%airfare+flight_time%cheapest%aircraft+flight+flight_no'}) (input_keys={'customer_message', 'intent_labels'}),\n",
       " Example({'customer_message': 'what are the restrictions on the cheapest one way fare between boston and oakland', 'answer': 'restriction', 'intent_labels': 'flight%flight_time%airfare%aircraft%ground_service%airport%airline%distance%abbreviation%ground_fare%quantity%city%flight_no%capacity%flight+airfare%meal%restriction%airline+flight_no%ground_service+ground_fare%airfare+flight_time%cheapest%aircraft+flight+flight_no'}) (input_keys={'customer_message', 'intent_labels'}),\n",
       " Example({'customer_message': 'fine can you give me information on ground transportation in washington dc to downtown', 'answer': 'ground_service', 'intent_labels': 'flight%flight_time%airfare%aircraft%ground_service%airport%airline%distance%abbreviation%ground_fare%quantity%city%flight_no%capacity%flight+airfare%meal%restriction%airline+flight_no%ground_service+ground_fare%airfare+flight_time%cheapest%aircraft+flight+flight_no'}) (input_keys={'customer_message', 'intent_labels'}),\n",
       " Example({'customer_message': 'what is the distance from toronto international airport to toronto', 'answer': 'distance', 'intent_labels': 'flight%flight_time%airfare%aircraft%ground_service%airport%airline%distance%abbreviation%ground_fare%quantity%city%flight_no%capacity%flight+airfare%meal%restriction%airline+flight_no%ground_service+ground_fare%airfare+flight_time%cheapest%aircraft+flight+flight_no'}) (input_keys={'customer_message', 'intent_labels'}),\n",
       " Example({'customer_message': 'list flights from denver to philadelphia', 'answer': 'flight', 'intent_labels': 'flight%flight_time%airfare%aircraft%ground_service%airport%airline%distance%abbreviation%ground_fare%quantity%city%flight_no%capacity%flight+airfare%meal%restriction%airline+flight_no%ground_service+ground_fare%airfare+flight_time%cheapest%aircraft+flight+flight_no'}) (input_keys={'customer_message', 'intent_labels'}),\n",
       " Example({'customer_message': 'what is the meaning of restriction ap80', 'answer': 'abbreviation', 'intent_labels': 'flight%flight_time%airfare%aircraft%ground_service%airport%airline%distance%abbreviation%ground_fare%quantity%city%flight_no%capacity%flight+airfare%meal%restriction%airline+flight_no%ground_service+ground_fare%airfare+flight_time%cheapest%aircraft+flight+flight_no'}) (input_keys={'customer_message', 'intent_labels'}),\n",
       " Example({'customer_message': 'what is restriction ap57', 'answer': 'restriction', 'intent_labels': 'flight%flight_time%airfare%aircraft%ground_service%airport%airline%distance%abbreviation%ground_fare%quantity%city%flight_no%capacity%flight+airfare%meal%restriction%airline+flight_no%ground_service+ground_fare%airfare+flight_time%cheapest%aircraft+flight+flight_no'}) (input_keys={'customer_message', 'intent_labels'}),\n",
       " Example({'customer_message': 'what time zone is denver in', 'answer': 'city', 'intent_labels': 'flight%flight_time%airfare%aircraft%ground_service%airport%airline%distance%abbreviation%ground_fare%quantity%city%flight_no%capacity%flight+airfare%meal%restriction%airline+flight_no%ground_service+ground_fare%airfare+flight_time%cheapest%aircraft+flight+flight_no'}) (input_keys={'customer_message', 'intent_labels'}),\n",
       " Example({'customer_message': 'airports', 'answer': 'airport', 'intent_labels': 'flight%flight_time%airfare%aircraft%ground_service%airport%airline%distance%abbreviation%ground_fare%quantity%city%flight_no%capacity%flight+airfare%meal%restriction%airline+flight_no%ground_service+ground_fare%airfare+flight_time%cheapest%aircraft+flight+flight_no'}) (input_keys={'customer_message', 'intent_labels'}),\n",
       " Example({'customer_message': 'list daily flights from boston to oakland using twa', 'answer': 'flight', 'intent_labels': 'flight%flight_time%airfare%aircraft%ground_service%airport%airline%distance%abbreviation%ground_fare%quantity%city%flight_no%capacity%flight+airfare%meal%restriction%airline+flight_no%ground_service+ground_fare%airfare+flight_time%cheapest%aircraft+flight+flight_no'}) (input_keys={'customer_message', 'intent_labels'})]"
      ]
     },
     "execution_count": 30,
     "metadata": {},
     "output_type": "execute_result"
    }
   ],
   "source": [
    "few_shot_model.demos"
   ]
  },
  {
   "cell_type": "code",
   "execution_count": 31,
   "id": "a1df2ccc-04aa-48e3-a2c7-daf235662e7a",
   "metadata": {},
   "outputs": [
    {
     "data": {
      "text/plain": [
       "[Example({'augmented': True, 'customer_message': 'show me the flights from los angeles to pittsburgh which arrive at pittsburgh on monday', 'intent_labels': 'flight%flight_time%airfare%aircraft%ground_service%airport%airline%distance%abbreviation%ground_fare%quantity%city%flight_no%capacity%flight+airfare%meal%restriction%airline+flight_no%ground_service+ground_fare%airfare+flight_time%cheapest%aircraft+flight+flight_no', 'rationale': 'produce the answer. We need to identify the main focus of the customer\\'s request. The customer is asking for flights from Los Angeles to Pittsburgh, specifically mentioning the arrival day (Monday). This indicates that the intent is related to finding flights. The most relevant label that matches this request is \"flight\".', 'answer': 'flight'}) (input_keys=None),\n",
       " Example({'augmented': True, 'customer_message': 'what time does the flight leave denver going to san francisco on continental airlines', 'intent_labels': 'flight%flight_time%airfare%aircraft%ground_service%airport%airline%distance%abbreviation%ground_fare%quantity%city%flight_no%capacity%flight+airfare%meal%restriction%airline+flight_no%ground_service+ground_fare%airfare+flight_time%cheapest%aircraft+flight+flight_no', 'rationale': 'determine the intent of the customer\\'s message. The customer is asking for the departure time of a specific flight from Denver to San Francisco on Continental Airlines. This indicates that the primary focus of the inquiry is related to the timing of the flight. \\n\\nThe intent labels include various categories, but the most relevant one for this question is \"flight_time,\" as it directly pertains to the time of departure for the flight.', 'answer': 'flight_time'}) (input_keys=None),\n",
       " Example({'augmented': True, 'customer_message': 'show me times for coach flights between boston and baltimore on wednesday', 'intent_labels': 'flight%flight_time%airfare%aircraft%ground_service%airport%airline%distance%abbreviation%ground_fare%quantity%city%flight_no%capacity%flight+airfare%meal%restriction%airline+flight_no%ground_service+ground_fare%airfare+flight_time%cheapest%aircraft+flight+flight_no', 'rationale': 'produce the answer. We need to identify the main focus of the customer\\'s request. The customer is asking for \"times\" related to \"coach flights\" between two cities on a specific day. This indicates that the customer is interested in the schedule or timing of flights. Therefore, the intent label that best matches this request is related to flight times.', 'answer': 'flight_time'}) (input_keys=None),\n",
       " Example({'augmented': True, 'customer_message': 'how much does it cost to fly on american from dallas to baltimore', 'intent_labels': 'flight%flight_time%airfare%aircraft%ground_service%airport%airline%distance%abbreviation%ground_fare%quantity%city%flight_no%capacity%flight+airfare%meal%restriction%airline+flight_no%ground_service+ground_fare%airfare+flight_time%cheapest%aircraft+flight+flight_no', 'rationale': 'produce the answer. We need to identify the main focus of the customer\\'s inquiry. The customer is asking about the cost of a flight on American Airlines from Dallas to Baltimore. This indicates that the primary intent is related to the fare or price of the flight. Therefore, the best matching intent label for this inquiry is \"airfare.\"', 'answer': 'airfare'}) (input_keys=None),\n",
       " Example({'augmented': True, 'customer_message': 'please show me fares from denver to san francisco', 'intent_labels': 'flight%flight_time%airfare%aircraft%ground_service%airport%airline%distance%abbreviation%ground_fare%quantity%city%flight_no%capacity%flight+airfare%meal%restriction%airline+flight_no%ground_service+ground_fare%airfare+flight_time%cheapest%aircraft+flight+flight_no', 'rationale': \"produce the answer. We need to identify the main focus of the customer's request. The customer is asking for fares, which indicates they are interested in the cost of flights from Denver to San Francisco. This aligns with the intent label related to airfare.\", 'answer': 'airfare'}) (input_keys=None),\n",
       " Example({'augmented': True, 'customer_message': \"i 'd like to know what type of plane flies from boston to dallas fort worth after 530\", 'intent_labels': 'flight%flight_time%airfare%aircraft%ground_service%airport%airline%distance%abbreviation%ground_fare%quantity%city%flight_no%capacity%flight+airfare%meal%restriction%airline+flight_no%ground_service+ground_fare%airfare+flight_time%cheapest%aircraft+flight+flight_no', 'rationale': \"determine the intent of the customer's message. The customer is asking about the type of plane that operates on a specific route (from Boston to Dallas Fort Worth) and at a specific time (after 5:30). This indicates that the customer is interested in information related to the aircraft used for that flight.\", 'answer': 'aircraft'}) (input_keys=None),\n",
       " Example({'augmented': True, 'customer_message': 'what is the smallest aircraft that flies from pittsburgh to baltimore arriving may seventh', 'intent_labels': 'flight%flight_time%airfare%aircraft%ground_service%airport%airline%distance%abbreviation%ground_fare%quantity%city%flight_no%capacity%flight+airfare%meal%restriction%airline+flight_no%ground_service+ground_fare%airfare+flight_time%cheapest%aircraft+flight+flight_no', 'rationale': \"determine the intent of the customer's message. The customer is asking about the smallest aircraft that operates on a specific route (from Pittsburgh to Baltimore) and on a specific date (arriving May seventh). This indicates that the customer is interested in information related to the type of aircraft used for that flight.\", 'answer': 'aircraft'}) (input_keys=None),\n",
       " Example({'augmented': True, 'customer_message': 'what types of ground transportation are there to san francisco airport', 'intent_labels': 'flight%flight_time%airfare%aircraft%ground_service%airport%airline%distance%abbreviation%ground_fare%quantity%city%flight_no%capacity%flight+airfare%meal%restriction%airline+flight_no%ground_service+ground_fare%airfare+flight_time%cheapest%aircraft+flight+flight_no', 'rationale': 'identify the intent of the customer message. The customer is asking about the types of ground transportation available to San Francisco airport. This indicates that the focus is on transportation services rather than flights, fares, or other aviation-related queries. Therefore, the most appropriate intent label that matches this inquiry is related to ground services.', 'answer': 'ground_service'}) (input_keys=None),\n",
       " Example({'augmented': True, 'customer_message': 'is there ground transportation from the milwaukee airport to the downtown area', 'intent_labels': 'flight%flight_time%airfare%aircraft%ground_service%airport%airline%distance%abbreviation%ground_fare%quantity%city%flight_no%capacity%flight+airfare%meal%restriction%airline+flight_no%ground_service+ground_fare%airfare+flight_time%cheapest%aircraft+flight+flight_no', 'rationale': 'identify the intent of the customer message. The customer is inquiring about ground transportation options from the Milwaukee airport to the downtown area. This indicates a need for information related to ground services rather than flights or fares. Therefore, the most appropriate intent label for this message is related to ground services.', 'answer': 'ground_service'}) (input_keys=None),\n",
       " Example({'augmented': True, 'customer_message': 'houston airports', 'intent_labels': 'flight%flight_time%airfare%aircraft%ground_service%airport%airline%distance%abbreviation%ground_fare%quantity%city%flight_no%capacity%flight+airfare%meal%restriction%airline+flight_no%ground_service+ground_fare%airfare+flight_time%cheapest%aircraft+flight+flight_no', 'rationale': 'identify the intent of the customer message. The customer is asking about \"houston airports,\" which indicates they are looking for information related to airports in Houston. This aligns with the intent label that represents airport-related inquiries.', 'answer': 'airport'}) (input_keys=None)]"
      ]
     },
     "execution_count": 31,
     "metadata": {},
     "output_type": "execute_result"
    }
   ],
   "source": [
    "cot_few_shot_optimized.demos"
   ]
  },
  {
   "cell_type": "code",
   "execution_count": 78,
   "id": "8956c58a-069d-4da9-92a2-865181e45305",
   "metadata": {},
   "outputs": [
    {
     "data": {
      "text/plain": [
       "[Example({'augmented': True, 'customer_message': 'show me the flights from boston to oakland', 'intent_labels': 'flight%flight_time%airfare%aircraft%ground_service%airport%airline%distance%abbreviation%ground_fare%quantity%city%flight_no%capacity%flight+airfare%meal%restriction%airline+flight_no%ground_service+ground_fare%airfare+flight_time%cheapest%aircraft+flight+flight_no', 'rationale': 'produce the answer. We need to identify the main request in the customer message. The customer is asking for information about flights from Boston to Oakland, which indicates they are looking for flight details. The most relevant intent label that matches this request is \"flight\".', 'answer': 'flight'}) (input_keys=None),\n",
       " Example({'augmented': True, 'customer_message': 'does delta have an early afternoon flight from boston to san francisco', 'intent_labels': 'flight%flight_time%airfare%aircraft%ground_service%airport%airline%distance%abbreviation%ground_fare%quantity%city%flight_no%capacity%flight+airfare%meal%restriction%airline+flight_no%ground_service+ground_fare%airfare+flight_time%cheapest%aircraft+flight+flight_no', 'rationale': \"identify the main request in the customer's message. The customer is asking about the availability of a specific flight operated by Delta Airlines from Boston to San Francisco during a particular time frame (early afternoon). This indicates an intent to inquire about a flight schedule rather than asking for flights, fares, or other related information. \\n\\nSince the customer is specifically asking about the existence of a flight, the best matching intent label is 'flight'.\", 'answer': 'flight'}) (input_keys=None),\n",
       " Example({'augmented': True, 'customer_message': 'please give me the flight times the morning on united airlines for september twentieth from philadelphia to san francisco', 'intent_labels': 'flight%flight_time%airfare%aircraft%ground_service%airport%airline%distance%abbreviation%ground_fare%quantity%city%flight_no%capacity%flight+airfare%meal%restriction%airline+flight_no%ground_service+ground_fare%airfare+flight_time%cheapest%aircraft+flight+flight_no', 'rationale': \"produce the answer. We need to identify the main focus of the customer's request. The customer is asking for flight times specifically for a flight on United Airlines from Philadelphia to San Francisco on a specific date, which indicates they are interested in the timing of the flights. Therefore, the intent label that best matches this request is flight_time.\", 'answer': 'flight_time'}) (input_keys=None),\n",
       " Example({'augmented': True, 'customer_message': 'what times does continental depart from boston to san francisco', 'intent_labels': 'flight%flight_time%airfare%aircraft%ground_service%airport%airline%distance%abbreviation%ground_fare%quantity%city%flight_no%capacity%flight+airfare%meal%restriction%airline+flight_no%ground_service+ground_fare%airfare+flight_time%cheapest%aircraft+flight+flight_no', 'rationale': \"determine the intent of the customer's message. The customer is asking for specific departure times for a flight operated by Continental Airlines from Boston to San Francisco. This request is focused on the timing of the flight, which falls under the category of flight times.\", 'answer': 'flight_time'}) (input_keys=None),\n",
       " Example({'customer_message': 'can you list costs of denver rental cars', 'answer': 'ground_fare', 'intent_labels': 'flight%flight_time%airfare%aircraft%ground_service%airport%airline%distance%abbreviation%ground_fare%quantity%city%flight_no%capacity%flight+airfare%meal%restriction%airline+flight_no%ground_service+ground_fare%airfare+flight_time%cheapest%aircraft+flight+flight_no'}) (input_keys={'customer_message', 'intent_labels'}),\n",
       " Example({'customer_message': 'all flights and fares from pittsburgh to dallas round trip after 12 pm less than 1100 dollars', 'answer': 'flight+airfare', 'intent_labels': 'flight%flight_time%airfare%aircraft%ground_service%airport%airline%distance%abbreviation%ground_fare%quantity%city%flight_no%capacity%flight+airfare%meal%restriction%airline+flight_no%ground_service+ground_fare%airfare+flight_time%cheapest%aircraft+flight+flight_no'}) (input_keys={'customer_message', 'intent_labels'}),\n",
       " Example({'customer_message': 'what is the ap 57 restriction', 'answer': 'abbreviation', 'intent_labels': 'flight%flight_time%airfare%aircraft%ground_service%airport%airline%distance%abbreviation%ground_fare%quantity%city%flight_no%capacity%flight+airfare%meal%restriction%airline+flight_no%ground_service+ground_fare%airfare+flight_time%cheapest%aircraft+flight+flight_no'}) (input_keys={'customer_message', 'intent_labels'}),\n",
       " Example({'customer_message': 'what is the total seating capacity of all aircraft of american airlines', 'answer': 'capacity', 'intent_labels': 'flight%flight_time%airfare%aircraft%ground_service%airport%airline%distance%abbreviation%ground_fare%quantity%city%flight_no%capacity%flight+airfare%meal%restriction%airline+flight_no%ground_service+ground_fare%airfare+flight_time%cheapest%aircraft+flight+flight_no'}) (input_keys={'customer_message', 'intent_labels'}),\n",
       " Example({'customer_message': 'names of airports', 'answer': 'airport', 'intent_labels': 'flight%flight_time%airfare%aircraft%ground_service%airport%airline%distance%abbreviation%ground_fare%quantity%city%flight_no%capacity%flight+airfare%meal%restriction%airline+flight_no%ground_service+ground_fare%airfare+flight_time%cheapest%aircraft+flight+flight_no'}) (input_keys={'customer_message', 'intent_labels'}),\n",
       " Example({'customer_message': 'how much is the ground transportation between atlanta and downtown', 'answer': 'ground_fare', 'intent_labels': 'flight%flight_time%airfare%aircraft%ground_service%airport%airline%distance%abbreviation%ground_fare%quantity%city%flight_no%capacity%flight+airfare%meal%restriction%airline+flight_no%ground_service+ground_fare%airfare+flight_time%cheapest%aircraft+flight+flight_no'}) (input_keys={'customer_message', 'intent_labels'}),\n",
       " Example({'customer_message': 'what ground transportation is there in atlanta', 'answer': 'ground_service', 'intent_labels': 'flight%flight_time%airfare%aircraft%ground_service%airport%airline%distance%abbreviation%ground_fare%quantity%city%flight_no%capacity%flight+airfare%meal%restriction%airline+flight_no%ground_service+ground_fare%airfare+flight_time%cheapest%aircraft+flight+flight_no'}) (input_keys={'customer_message', 'intent_labels'}),\n",
       " Example({'customer_message': 'what are the seating capacities of planes between pittsburgh and baltimore', 'answer': 'capacity', 'intent_labels': 'flight%flight_time%airfare%aircraft%ground_service%airport%airline%distance%abbreviation%ground_fare%quantity%city%flight_no%capacity%flight+airfare%meal%restriction%airline+flight_no%ground_service+ground_fare%airfare+flight_time%cheapest%aircraft+flight+flight_no'}) (input_keys={'customer_message', 'intent_labels'}),\n",
       " Example({'customer_message': 'what are all the available meals', 'answer': 'meal', 'intent_labels': 'flight%flight_time%airfare%aircraft%ground_service%airport%airline%distance%abbreviation%ground_fare%quantity%city%flight_no%capacity%flight+airfare%meal%restriction%airline+flight_no%ground_service+ground_fare%airfare+flight_time%cheapest%aircraft+flight+flight_no'}) (input_keys={'customer_message', 'intent_labels'}),\n",
       " Example({'customer_message': 'show me all meals on flights from atlanta to washington', 'answer': 'meal', 'intent_labels': 'flight%flight_time%airfare%aircraft%ground_service%airport%airline%distance%abbreviation%ground_fare%quantity%city%flight_no%capacity%flight+airfare%meal%restriction%airline+flight_no%ground_service+ground_fare%airfare+flight_time%cheapest%aircraft+flight+flight_no'}) (input_keys={'customer_message', 'intent_labels'}),\n",
       " Example({'customer_message': 'airline and flight number from columbus to minneapolis', 'answer': 'airline+flight_no', 'intent_labels': 'flight%flight_time%airfare%aircraft%ground_service%airport%airline%distance%abbreviation%ground_fare%quantity%city%flight_no%capacity%flight+airfare%meal%restriction%airline+flight_no%ground_service+ground_fare%airfare+flight_time%cheapest%aircraft+flight+flight_no'}) (input_keys={'customer_message', 'intent_labels'}),\n",
       " Example({'customer_message': 'flight numbers from columbus to minneapolis tomorrow', 'answer': 'flight_no', 'intent_labels': 'flight%flight_time%airfare%aircraft%ground_service%airport%airline%distance%abbreviation%ground_fare%quantity%city%flight_no%capacity%flight+airfare%meal%restriction%airline+flight_no%ground_service+ground_fare%airfare+flight_time%cheapest%aircraft+flight+flight_no'}) (input_keys={'customer_message', 'intent_labels'})]"
      ]
     },
     "execution_count": 78,
     "metadata": {},
     "output_type": "execute_result"
    }
   ],
   "source": [
    "cot_few_shot_rs_optimized.demos"
   ]
  },
  {
   "cell_type": "markdown",
   "id": "4a0856d6-bc3b-4c47-8ae3-6934975e0839",
   "metadata": {},
   "source": [
    "# Remove bootstrapping"
   ]
  },
  {
   "cell_type": "code",
   "execution_count": 41,
   "id": "d5f289d7-750a-4d4d-b959-c8ff74fa639a",
   "metadata": {},
   "outputs": [
    {
     "name": "stderr",
     "output_type": "stream",
     "text": [
      " 11%|██████████████▋                                                                                                                     | 4/36 [00:01<00:11,  2.85it/s]\n"
     ]
    },
    {
     "name": "stdout",
     "output_type": "stream",
     "text": [
      "Bootstrapped 4 full traces after 4 examples for up to 20 rounds, amounting to 8 attempts.\n"
     ]
    },
    {
     "name": "stderr",
     "output_type": "stream",
     "text": [
      "Average Metric: 32 / 40  (80.0): 100%|██████████████████████████████████████████████████████████████████████████████████████████████████| 40/40 [00:11<00:00,  3.63it/s]\n",
      "2024/11/17 06:42:28 INFO dspy.evaluate.evaluate: Average Metric: 32 / 40 (80.0%)\n"
     ]
    },
    {
     "data": {
      "text/html": [
       "<style type=\"text/css\">\n",
       "#T_5f9b9 th {\n",
       "  text-align: left;\n",
       "}\n",
       "#T_5f9b9 td {\n",
       "  text-align: left;\n",
       "}\n",
       "#T_5f9b9_row0_col0, #T_5f9b9_row0_col1, #T_5f9b9_row0_col2, #T_5f9b9_row0_col3, #T_5f9b9_row0_col4, #T_5f9b9_row0_col5, #T_5f9b9_row1_col0, #T_5f9b9_row1_col1, #T_5f9b9_row1_col2, #T_5f9b9_row1_col3, #T_5f9b9_row1_col4, #T_5f9b9_row1_col5, #T_5f9b9_row2_col0, #T_5f9b9_row2_col1, #T_5f9b9_row2_col2, #T_5f9b9_row2_col3, #T_5f9b9_row2_col4, #T_5f9b9_row2_col5, #T_5f9b9_row3_col0, #T_5f9b9_row3_col1, #T_5f9b9_row3_col2, #T_5f9b9_row3_col3, #T_5f9b9_row3_col4, #T_5f9b9_row3_col5, #T_5f9b9_row4_col0, #T_5f9b9_row4_col1, #T_5f9b9_row4_col2, #T_5f9b9_row4_col3, #T_5f9b9_row4_col4, #T_5f9b9_row4_col5 {\n",
       "  text-align: left;\n",
       "  white-space: pre-wrap;\n",
       "  word-wrap: break-word;\n",
       "  max-width: 400px;\n",
       "}\n",
       "</style>\n",
       "<table id=\"T_5f9b9\">\n",
       "  <thead>\n",
       "    <tr>\n",
       "      <th class=\"blank level0\" >&nbsp;</th>\n",
       "      <th id=\"T_5f9b9_level0_col0\" class=\"col_heading level0 col0\" >customer_message</th>\n",
       "      <th id=\"T_5f9b9_level0_col1\" class=\"col_heading level0 col1\" >example_answer</th>\n",
       "      <th id=\"T_5f9b9_level0_col2\" class=\"col_heading level0 col2\" >intent_labels</th>\n",
       "      <th id=\"T_5f9b9_level0_col3\" class=\"col_heading level0 col3\" >rationale</th>\n",
       "      <th id=\"T_5f9b9_level0_col4\" class=\"col_heading level0 col4\" >pred_answer</th>\n",
       "      <th id=\"T_5f9b9_level0_col5\" class=\"col_heading level0 col5\" >answer_exact_match</th>\n",
       "    </tr>\n",
       "  </thead>\n",
       "  <tbody>\n",
       "    <tr>\n",
       "      <th id=\"T_5f9b9_level0_row0\" class=\"row_heading level0 row0\" >0</th>\n",
       "      <td id=\"T_5f9b9_row0_col0\" class=\"data row0 col0\" >list airports in new york</td>\n",
       "      <td id=\"T_5f9b9_row0_col1\" class=\"data row0 col1\" >airport</td>\n",
       "      <td id=\"T_5f9b9_row0_col2\" class=\"data row0 col2\" >flight%flight_time%airfare%aircraft%ground_service%airport%airline%distance%abbreviation%ground_fare%quantity%city%flight_no%capacity%flight+airfare%meal%restriction%airline+flight_no%ground_service+ground_fare%airfare+flight_time%cheapest%aircraft+flight+flight_no</td>\n",
       "      <td id=\"T_5f9b9_row0_col3\" class=\"data row0 col3\" >determine the intent of the customer's message. The customer is asking for a list of airports located in New York. This request is focused on...</td>\n",
       "      <td id=\"T_5f9b9_row0_col4\" class=\"data row0 col4\" >airport</td>\n",
       "      <td id=\"T_5f9b9_row0_col5\" class=\"data row0 col5\" >✔️ [True]</td>\n",
       "    </tr>\n",
       "    <tr>\n",
       "      <th id=\"T_5f9b9_level0_row1\" class=\"row_heading level0 row1\" >1</th>\n",
       "      <td id=\"T_5f9b9_row1_col0\" class=\"data row1 col0\" >show me flights from montreal to orlando</td>\n",
       "      <td id=\"T_5f9b9_row1_col1\" class=\"data row1 col1\" >flight</td>\n",
       "      <td id=\"T_5f9b9_row1_col2\" class=\"data row1 col2\" >flight%flight_time%airfare%aircraft%ground_service%airport%airline%distance%abbreviation%ground_fare%quantity%city%flight_no%capacity%flight+airfare%meal%restriction%airline+flight_no%ground_service+ground_fare%airfare+flight_time%cheapest%aircraft+flight+flight_no</td>\n",
       "      <td id=\"T_5f9b9_row1_col3\" class=\"data row1 col3\" >produce the answer. The customer is requesting information about flights from Montreal to Orlando. This indicates that the intent is related to finding flights between...</td>\n",
       "      <td id=\"T_5f9b9_row1_col4\" class=\"data row1 col4\" >flight</td>\n",
       "      <td id=\"T_5f9b9_row1_col5\" class=\"data row1 col5\" >✔️ [True]</td>\n",
       "    </tr>\n",
       "    <tr>\n",
       "      <th id=\"T_5f9b9_level0_row2\" class=\"row_heading level0 row2\" >2</th>\n",
       "      <td id=\"T_5f9b9_row2_col0\" class=\"data row2 col0\" >which flights leave chicago next tuesday and arrive in detroit around 6 pm</td>\n",
       "      <td id=\"T_5f9b9_row2_col1\" class=\"data row2 col1\" >flight</td>\n",
       "      <td id=\"T_5f9b9_row2_col2\" class=\"data row2 col2\" >flight%flight_time%airfare%aircraft%ground_service%airport%airline%distance%abbreviation%ground_fare%quantity%city%flight_no%capacity%flight+airfare%meal%restriction%airline+flight_no%ground_service+ground_fare%airfare+flight_time%cheapest%aircraft+flight+flight_no</td>\n",
       "      <td id=\"T_5f9b9_row2_col3\" class=\"data row2 col3\" >determine the intent of the customer's message. The customer is asking for information about flights that leave from Chicago next Tuesday and arrive in Detroit...</td>\n",
       "      <td id=\"T_5f9b9_row2_col4\" class=\"data row2 col4\" >flight</td>\n",
       "      <td id=\"T_5f9b9_row2_col5\" class=\"data row2 col5\" >✔️ [True]</td>\n",
       "    </tr>\n",
       "    <tr>\n",
       "      <th id=\"T_5f9b9_level0_row3\" class=\"row_heading level0 row3\" >3</th>\n",
       "      <td id=\"T_5f9b9_row3_col0\" class=\"data row3 col0\" >list the flights from dallas to baltimore arriving july first</td>\n",
       "      <td id=\"T_5f9b9_row3_col1\" class=\"data row3 col1\" >flight</td>\n",
       "      <td id=\"T_5f9b9_row3_col2\" class=\"data row3 col2\" >flight%flight_time%airfare%aircraft%ground_service%airport%airline%distance%abbreviation%ground_fare%quantity%city%flight_no%capacity%flight+airfare%meal%restriction%airline+flight_no%ground_service+ground_fare%airfare+flight_time%cheapest%aircraft+flight+flight_no</td>\n",
       "      <td id=\"T_5f9b9_row3_col3\" class=\"data row3 col3\" >determine the intent of the customer's message. The customer is asking for a list of flights from Dallas to Baltimore that are arriving on a...</td>\n",
       "      <td id=\"T_5f9b9_row3_col4\" class=\"data row3 col4\" >flight</td>\n",
       "      <td id=\"T_5f9b9_row3_col5\" class=\"data row3 col5\" >✔️ [True]</td>\n",
       "    </tr>\n",
       "    <tr>\n",
       "      <th id=\"T_5f9b9_level0_row4\" class=\"row_heading level0 row4\" >4</th>\n",
       "      <td id=\"T_5f9b9_row4_col0\" class=\"data row4 col0\" >show flights tomorrow evening from milwaukee to st. louis</td>\n",
       "      <td id=\"T_5f9b9_row4_col1\" class=\"data row4 col1\" >flight</td>\n",
       "      <td id=\"T_5f9b9_row4_col2\" class=\"data row4 col2\" >flight%flight_time%airfare%aircraft%ground_service%airport%airline%distance%abbreviation%ground_fare%quantity%city%flight_no%capacity%flight+airfare%meal%restriction%airline+flight_no%ground_service+ground_fare%airfare+flight_time%cheapest%aircraft+flight+flight_no</td>\n",
       "      <td id=\"T_5f9b9_row4_col3\" class=\"data row4 col3\" >produce the answer. The customer is requesting information about flights that are scheduled for tomorrow evening from Milwaukee to St. Louis. This indicates that the...</td>\n",
       "      <td id=\"T_5f9b9_row4_col4\" class=\"data row4 col4\" >flight</td>\n",
       "      <td id=\"T_5f9b9_row4_col5\" class=\"data row4 col5\" >✔️ [True]</td>\n",
       "    </tr>\n",
       "  </tbody>\n",
       "</table>\n"
      ],
      "text/plain": [
       "<pandas.io.formats.style.Styler at 0x7b3eec70a890>"
      ]
     },
     "metadata": {},
     "output_type": "display_data"
    },
    {
     "data": {
      "text/html": [
       "\n",
       "                <div style='\n",
       "                    text-align: center;\n",
       "                    font-size: 16px;\n",
       "                    font-weight: bold;\n",
       "                    color: #555;\n",
       "                    margin: 10px 0;'>\n",
       "                    ... 35 more rows not displayed ...\n",
       "                </div>\n",
       "                "
      ],
      "text/plain": [
       "<IPython.core.display.HTML object>"
      ]
     },
     "metadata": {},
     "output_type": "display_data"
    },
    {
     "data": {
      "text/plain": [
       "80.0"
      ]
     },
     "execution_count": 41,
     "metadata": {},
     "output_type": "execute_result"
    }
   ],
   "source": [
    "from dspy.evaluate import answer_exact_match as metric\n",
    "from dspy.teleprompt import BootstrapFewShot\n",
    "\n",
    "optimizer = BootstrapFewShot(\n",
    "    metric=metric,\n",
    "    max_bootstrapped_demos=4, # no need for boostrapped\n",
    "    max_labeled_demos=40, # increase examples\n",
    "    max_rounds=20,\n",
    ")\n",
    "\n",
    "# documentation is wrong - there is not valset: https://dspy.ai/deep-dive/optimizers/bootstrap-fewshot/\n",
    "cot_few_shot_to_bootstrap = optimizer.compile(cot_predictor, trainset=train_examples)\n",
    "\n",
    "\n",
    "evaluate_atis(cot_few_shot_to_bootstrap, metric=metric)\n",
    "# bootrsapped_demos: generated demos?\n",
    "# max_labeled_demos: input demos"
   ]
  }
 ],
 "metadata": {
  "kernelspec": {
   "display_name": "Python 3 (ipykernel)",
   "language": "python",
   "name": "python3"
  },
  "language_info": {
   "codemirror_mode": {
    "name": "ipython",
    "version": 3
   },
   "file_extension": ".py",
   "mimetype": "text/x-python",
   "name": "python",
   "nbconvert_exporter": "python",
   "pygments_lexer": "ipython3",
   "version": "3.10.12"
  }
 },
 "nbformat": 4,
 "nbformat_minor": 5
}
