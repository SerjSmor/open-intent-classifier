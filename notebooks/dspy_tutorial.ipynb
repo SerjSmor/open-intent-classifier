{
 "cells": [
  {
   "cell_type": "markdown",
   "id": "da5c9e91-65f3-4c06-91f6-d7863f129848",
   "metadata": {},
   "source": [
    "## Basic Example"
   ]
  },
  {
   "cell_type": "markdown",
   "id": "5f476789-3bb1-4fc9-9521-8650c0aef2d0",
   "metadata": {},
   "source": [
    "### First define the signature"
   ]
  },
  {
   "cell_type": "code",
   "execution_count": 21,
   "id": "e6d35f00-46b6-4d0e-93d6-28caa10f1b40",
   "metadata": {},
   "outputs": [],
   "source": [
    "import dspy \n",
    "from open_intent_classifier.utils import join_labels\n",
    "\n",
    "class Classification(dspy.Signature):\n",
    "    \"\"\"Classify the customer message into one of the intent labels.\n",
    "    The output should be only the predicted class as a single intent label.\"\"\"\n",
    "\n",
    "    customer_message = dspy.InputField(desc=\"Customer message during customer service interaction\")\n",
    "    intent_labels = dspy.InputField(desc=\"Labels that represent customer intent\")\n",
    "    intent_class = dspy.OutputField(desc=\"a label best matching customer's intent \")"
   ]
  },
  {
   "cell_type": "markdown",
   "id": "09b42d77-5ef4-420b-9ae4-cafa3ca81c28",
   "metadata": {},
   "source": [
    "### Define the languae model "
   ]
  },
  {
   "cell_type": "code",
   "execution_count": 24,
   "id": "43e0debd-85b0-4d6e-9e13-3b6319165e25",
   "metadata": {},
   "outputs": [],
   "source": [
    "lm_mini = dspy.OpenAI(model='gpt-4o-mini')\n",
    "dspy.settings.configure(lm=lm_mini)"
   ]
  },
  {
   "cell_type": "markdown",
   "id": "17c8e00e-42a3-4650-adf6-99b3c096af15",
   "metadata": {},
   "source": [
    "### Predict"
   ]
  },
  {
   "cell_type": "code",
   "execution_count": 25,
   "id": "86e29e2a-f875-4614-9518-8129c3ff8a4e",
   "metadata": {},
   "outputs": [
    {
     "data": {
      "text/plain": [
       "Prediction(\n",
       "    intent_class='Cancel subscription'\n",
       ")"
      ]
     },
     "execution_count": 25,
     "metadata": {},
     "output_type": "execute_result"
    }
   ],
   "source": [
    "predict = dspy.Predict(Classification)\n",
    "labels = join_labels([\"Cancel subscription\", \"Refund request\"])\n",
    "labels = \" \".join([\"Cancel subscription\", \"Refund request\"])\n",
    "text = \"I want to cancel my subscription\"\n",
    "pred = predict(customer_message=text, intent_labels=labels)\n",
    "pred"
   ]
  },
  {
   "cell_type": "code",
   "execution_count": 26,
   "id": "4b8d7f04-911d-4671-89a3-3105649fdd68",
   "metadata": {},
   "outputs": [
    {
     "name": "stdout",
     "output_type": "stream",
     "text": [
      "\n",
      "\n",
      "\n",
      "Classify the customer message into one of the intent labels.\n",
      "The output should be only the predicted class as a single intent label.\n",
      "\n",
      "---\n",
      "\n",
      "Follow the following format.\n",
      "\n",
      "Customer Message: Customer message during customer service interaction\n",
      "Intent Labels: Labels that represent customer intent\n",
      "Intent Class: a label best matching customer's intent\n",
      "\n",
      "---\n",
      "\n",
      "Customer Message: I want to cancel my subscription\n",
      "Intent Labels: Cancel subscription Refund request\n",
      "Intent Class:\u001b[32m Cancel subscription\u001b[0m\n",
      "\n",
      "\n",
      "\n"
     ]
    },
    {
     "data": {
      "text/plain": [
       "\"\\n\\n\\nClassify the customer message into one of the intent labels.\\nThe output should be only the predicted class as a single intent label.\\n\\n---\\n\\nFollow the following format.\\n\\nCustomer Message: Customer message during customer service interaction\\nIntent Labels: Labels that represent customer intent\\nIntent Class: a label best matching customer's intent\\n\\n---\\n\\nCustomer Message: I want to cancel my subscription\\nIntent Labels: Cancel subscription Refund request\\nIntent Class:\\x1b[32m Cancel subscription\\x1b[0m\\n\\n\\n\""
      ]
     },
     "execution_count": 26,
     "metadata": {},
     "output_type": "execute_result"
    }
   ],
   "source": [
    "lm_mini.inspect_history(n=1)"
   ]
  },
  {
   "cell_type": "markdown",
   "id": "c7dbd608-7cb3-4d3e-987e-853aa23e188a",
   "metadata": {},
   "source": [
    "## Using Chain Of Thought (CoT)"
   ]
  },
  {
   "cell_type": "code",
   "execution_count": 27,
   "id": "61c51226-f2a0-4bd8-810e-95be5c43ff40",
   "metadata": {},
   "outputs": [
    {
     "name": "stderr",
     "output_type": "stream",
     "text": [
      "httpx - INFO - HTTP Request: POST https://api.openai.com/v1/chat/completions \"HTTP/1.1 200 OK\"\n"
     ]
    },
    {
     "data": {
      "text/plain": [
       "Prediction(\n",
       "    rationale='produce the intent_class. We first identify that the customer is expressing a desire to terminate an ongoing service, which directly aligns with the intent of canceling a subscription. There is no mention of seeking a refund or any other request, so the primary focus is on the cancellation itself.',\n",
       "    intent_class='Cancel subscription'\n",
       ")"
      ]
     },
     "execution_count": 27,
     "metadata": {},
     "output_type": "execute_result"
    }
   ],
   "source": [
    "predict_with_chain_of_thought = dspy.ChainOfThought(Classification)\n",
    "pred = predict_with_chain_of_thought(customer_message=text, intent_labels=labels)\n",
    "pred"
   ]
  },
  {
   "cell_type": "code",
   "execution_count": 28,
   "id": "52dac266-0db6-4b5c-9c8b-cf930175d9eb",
   "metadata": {},
   "outputs": [
    {
     "data": {
      "text/plain": [
       "'Cancel subscription'"
      ]
     },
     "execution_count": 28,
     "metadata": {},
     "output_type": "execute_result"
    }
   ],
   "source": [
    "pred.intent_class"
   ]
  },
  {
   "cell_type": "code",
   "execution_count": 29,
   "id": "3534fb75-fb66-4a4b-887d-6fedb07bdf10",
   "metadata": {},
   "outputs": [
    {
     "data": {
      "text/plain": [
       "'produce the intent_class. We first identify that the customer is expressing a desire to terminate an ongoing service, which directly aligns with the intent of canceling a subscription. There is no mention of seeking a refund or any other request, so the primary focus is on the cancellation itself.'"
      ]
     },
     "execution_count": 29,
     "metadata": {},
     "output_type": "execute_result"
    }
   ],
   "source": [
    "pred.rationale"
   ]
  },
  {
   "cell_type": "code",
   "execution_count": 30,
   "id": "73a919eb-8e23-440a-b26c-b66643d4f7ea",
   "metadata": {},
   "outputs": [
    {
     "name": "stdout",
     "output_type": "stream",
     "text": [
      "\n",
      "\n",
      "\n",
      "Classify the customer message into one of the intent labels.\n",
      "The output should be only the predicted class as a single intent label.\n",
      "\n",
      "---\n",
      "\n",
      "Follow the following format.\n",
      "\n",
      "Customer Message: Customer message during customer service interaction\n",
      "\n",
      "Intent Labels: Labels that represent customer intent\n",
      "\n",
      "Reasoning: Let's think step by step in order to ${produce the intent_class}. We ...\n",
      "\n",
      "Intent Class: a label best matching customer's intent\n",
      "\n",
      "---\n",
      "\n",
      "Customer Message: I want to cancel my subscription\n",
      "\n",
      "Intent Labels: Cancel subscription Refund request\n",
      "\n",
      "Reasoning: Let's think step by step in order to\u001b[32m produce the intent_class. We first identify that the customer is expressing a desire to terminate an ongoing service, which directly aligns with the intent of canceling a subscription. There is no mention of seeking a refund or any other request, so the primary focus is on the cancellation itself.\n",
      "\n",
      "Intent Class: Cancel subscription\u001b[0m\n",
      "\n",
      "\n",
      "\n"
     ]
    },
    {
     "data": {
      "text/plain": [
       "\"\\n\\n\\nClassify the customer message into one of the intent labels.\\nThe output should be only the predicted class as a single intent label.\\n\\n---\\n\\nFollow the following format.\\n\\nCustomer Message: Customer message during customer service interaction\\n\\nIntent Labels: Labels that represent customer intent\\n\\nReasoning: Let's think step by step in order to ${produce the intent_class}. We ...\\n\\nIntent Class: a label best matching customer's intent\\n\\n---\\n\\nCustomer Message: I want to cancel my subscription\\n\\nIntent Labels: Cancel subscription Refund request\\n\\nReasoning: Let's think step by step in order to\\x1b[32m produce the intent_class. We first identify that the customer is expressing a desire to terminate an ongoing service, which directly aligns with the intent of canceling a subscription. There is no mention of seeking a refund or any other request, so the primary focus is on the cancellation itself.\\n\\nIntent Class: Cancel subscription\\x1b[0m\\n\\n\\n\""
      ]
     },
     "execution_count": 30,
     "metadata": {},
     "output_type": "execute_result"
    }
   ],
   "source": [
    "lm_mini.inspect_history(n=1)"
   ]
  },
  {
   "cell_type": "markdown",
   "id": "f387a663-b0df-40f8-9ea7-f88d3f03edf8",
   "metadata": {},
   "source": [
    "## Example of a bug - not specifying output properly"
   ]
  },
  {
   "cell_type": "markdown",
   "id": "92ec67e1-294e-4cf8-a0e7-babcb3299b50",
   "metadata": {},
   "source": [
    "### My instruction: \n",
    "\"\"\"Classify the customer message into one of the intent labels.\"\"\" \n",
    "### is not specific enough"
   ]
  },
  {
   "cell_type": "code",
   "execution_count": 31,
   "id": "1461b8ea-13f1-4c5f-ad4a-e48e33c1678d",
   "metadata": {},
   "outputs": [],
   "source": [
    "import dspy \n",
    "from open_intent_classifier.utils import join_labels\n",
    "\n",
    "class Classification(dspy.Signature):\n",
    "    \"\"\"Classify the customer message into one of the intent labels.\"\"\"\n",
    "\n",
    "    customer_message = dspy.InputField(desc=\"Customer message during customer service interaction\")\n",
    "    intent_labels = dspy.InputField(desc=\"Labels that represent customer intent\")\n",
    "    intent_class = dspy.OutputField(desc=\"a label best matching customer's intent \")"
   ]
  },
  {
   "cell_type": "markdown",
   "id": "55bdc918-e918-48b3-8aaf-22c26f35091f",
   "metadata": {},
   "source": [
    "### Intent class is the whole message, instead of being the class"
   ]
  },
  {
   "cell_type": "code",
   "execution_count": 17,
   "id": "ec7d46bd-d247-4eac-afa9-92b168f34f3a",
   "metadata": {},
   "outputs": [
    {
     "name": "stderr",
     "output_type": "stream",
     "text": [
      "httpx - INFO - HTTP Request: POST https://api.openai.com/v1/chat/completions \"HTTP/1.1 200 OK\"\n"
     ]
    },
    {
     "data": {
      "text/plain": [
       "Prediction(\n",
       "    intent_class='Customer Message: I want to cancel my subscription  \\nIntent Labels: Cancel subscription  \\nIntent Class: Cancel subscription'\n",
       ")"
      ]
     },
     "execution_count": 17,
     "metadata": {},
     "output_type": "execute_result"
    }
   ],
   "source": [
    "predict = dspy.Predict(Classification)\n",
    "labels = \" \".join([\"Cancel subscription\", \"Refund request\"])\n",
    "text = \"I want to cancel my subscription\"\n",
    "pred = predict(customer_message=text, intent_labels=labels)\n",
    "pred"
   ]
  }
 ],
 "metadata": {
  "kernelspec": {
   "display_name": "Python 3 (ipykernel)",
   "language": "python",
   "name": "python3"
  },
  "language_info": {
   "codemirror_mode": {
    "name": "ipython",
    "version": 3
   },
   "file_extension": ".py",
   "mimetype": "text/x-python",
   "name": "python",
   "nbconvert_exporter": "python",
   "pygments_lexer": "ipython3",
   "version": "3.10.12"
  }
 },
 "nbformat": 4,
 "nbformat_minor": 5
}
